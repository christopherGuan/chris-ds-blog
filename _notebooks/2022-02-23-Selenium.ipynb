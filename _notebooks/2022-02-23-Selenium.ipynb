{
 "cells": [
  {
   "cell_type": "markdown",
   "metadata": {},
   "source": [
    "# Predicting Stock Change With Python\n",
    "\n",
    "- toc: true\n",
    "- branch: master\n",
    "- badges: true\n",
    "- comments: true\n",
    "- categories: [Fastpages, Jupyter, Python, Selenium, Stoc]\n",
    "- annotations: true\n",
    "- hide: false\n",
    "- search_exclude: true"
   ]
  },
  {
   "cell_type": "markdown",
   "metadata": {},
   "source": [
    "Stock is a highly sensitive and turbulent market. Because of the recent crisis between Russia and Ukraine, for example, a few comments from Putin or another powerful figure might lead millions of people to lose or make profit in a matter of minutes. A essential skill that modern people should have is the ability to foresee trends in order to preserve their investments and maximize their profits. In this blog, we are going to introduce three basic functions to support you to achieve the following goals.\n",
    "\n",
    "\n",
    "First, [selenium](https://pypi.org/project/selenium/) is the first option to support us to do web scraping from [Yahoo finance](https://finance.yahoo.com/screener/predefined/aggressive_small_caps?offset=0&count=202) based on the filter we set up, such as Aggressive Small Caps. Here is a [Youtube selenium tutoria](https://www.youtube.com/watch?v=Xjv1sY630Uc) that I recommend you to  set up selenium. And use this selenium python tutorial as more detailed reference. Then, we will get the historical data of that most active stock. Second, we will predict the stock trends. Eventually, we send out the predictions and the lastest change on the stock to our receiver by email."
   ]
  },
  {
   "cell_type": "markdown",
   "metadata": {},
   "source": [
    "![Stock Image](https://miro.medium.com/max/1400/0*oWZiknkZ2GzGBkIJ)"
   ]
  },
  {
   "cell_type": "markdown",
   "metadata": {},
   "source": [
    "## Set up the envirnment"
   ]
  },
  {
   "cell_type": "markdown",
   "metadata": {},
   "source": [
    "Bleow are some packages that are necessary to run the code."
   ]
  },
  {
   "cell_type": "code",
   "execution_count": null,
   "metadata": {},
   "outputs": [],
   "source": [
    "import pandas as pd\n",
    "import numpy as np\n",
    "import re\n",
    "from getpass import getpass\n",
    "from datetime import datetime, date, time, timezone\n",
    "import smtplib\n",
    "from selenium import webdriver\n",
    "import os\n",
    "\n",
    "#For Prediction\n",
    "from sklearn.linear_model import LinearRegression\n",
    "from sklearn import preprocessing\n",
    "from sklearn.model_selection import cross_validate\n",
    "from sklearn.model_selection import train_test_split\n",
    "from selenium.webdriver.common.by import By\n",
    "from selenium.webdriver.chrome.service import Service\n",
    "\n",
    "#For Stock Data\n",
    "from iexfinance.stocks import get_historical_data\n",
    "from iexfinance.stocks import Stock"
   ]
  },
  {
   "cell_type": "markdown",
   "metadata": {},
   "source": [
    "## Do not have enough stock data?"
   ]
  },
  {
   "cell_type": "markdown",
   "metadata": {},
   "source": [
    "### Method one: scrapying the stock data from Yahoo for free!"
   ]
  },
  {
   "cell_type": "markdown",
   "metadata": {},
   "source": [
    "After following the tutorial at the very beginning of this blog, we can create our chrome drive and use driver.get(url) navigate to our desired webpage: [Yahoo finance](https://finance.yahoo.com/screener/predefined/aggressive_small_caps?offset=0&count=202) which displays the top 25 most active stocks by default. You can also change the filter based on what you are looking for. Inside webdriver.Chrome() you will need to type your chromedriver path."
   ]
  },
  {
   "cell_type": "markdown",
   "metadata": {},
   "source": [
    "After connecting to Yahoo by using webdriver, we could use a double for loops to crawl the whole database on the website. In detail, \"j\" represents how many rows we need, and \"i\" represents which column we need. "
   ]
  },
  {
   "cell_type": "code",
   "execution_count": null,
   "metadata": {},
   "outputs": [],
   "source": [
    "def getStocks(n):\n",
    "    #Navigating to the Yahoo stock screener\n",
    "    driver = webdriver.Chrome(service= Service(\n",
    "        '/Users/zeyu/Desktop/chromedriver'))\n",
    "    url = \"https://finance.yahoo.com/screener/predefined/aggressive_small_caps?offset=0&count=202\"\n",
    "    driver.get(url)\n",
    "\n",
    "    #Creating a stock list and iterating through the ticker names on the stock screener list\n",
    "    data = [[] for i in range(9)]\n",
    "    for i in range(1,len(data)+1):\n",
    "        for j in range(1,n+1):\n",
    "            ticker = driver.find_element(By.XPATH,\n",
    "                '//*[@id = \"scr-res-table\"]/div[1]/table/tbody/tr[' + str(j) + ']/td[' + str(i) + ']')\n",
    "            data[i-1].append(ticker.text)  \n",
    "    driver.quit()\n",
    "\n",
    "    #Using the stock list to predict the future price of the stock a specificed amount of days\n",
    "    number = 0\n",
    "    for i in data:\n",
    "        print(\"Number: \" + str(number))\n",
    "        try:\n",
    "            predictData(i, 5)\n",
    "        except:\n",
    "            print(\"Stock: \" + i + \" was not predicted\")\n",
    "        number += 1\n",
    "\n",
    "if __name__ == '__main__':\n",
    "    getStocks(20)"
   ]
  },
  {
   "cell_type": "markdown",
   "metadata": {},
   "source": [
    "### Method two: applying historical stock data from IEX Cloud with cost.\n"
   ]
  },
  {
   "cell_type": "markdown",
   "metadata": {},
   "source": [
    "Before everything, you need to visit [iexcloud](https://iexcloud.io/) to create an account and get a exclusive API. The free version only offers a very limited access.\n",
    "\n",
    "Now, we can using the get_historical_data() package to get cleaned up dataset you want. Then there are a few parameters you need to enter. First, you need to enter the stock symblo like (AAPL). Then, set the start and end date, the output format (we will use pandas in this project), and eventually, the token which is API you acquired from the iexcloud website."
   ]
  },
  {
   "cell_type": "code",
   "execution_count": null,
   "metadata": {},
   "outputs": [],
   "source": [
    "#Outputting the Historical data into a .csv for later use\n",
    "start = datetime(2021, 2, 17)\n",
    "end = datetime(2022, 2, 16)\n",
    "API = getpass(\"Please enter your API\")\n",
    "\n",
    "df = get_historical_data(stock_symblo, start=start, end=end, output_format='pandas', token = API)"
   ]
  },
  {
   "cell_type": "code",
   "execution_count": null,
   "metadata": {},
   "outputs": [],
   "source": [
    "#hide\n",
    "df = pd.read_csv('/Users/zeyu/Desktop/DS/Stock/Selenium/SPOT_df.csv')\n",
    "df = df.drop(['subkey'], axis = 1)\n",
    "\n",
    "pd.set_option('display.max_columns', None)\n",
    "df = df.rename(columns = {\"Unnamed: 0\" : \"date\"})\n",
    "df.head()"
   ]
  },
  {
   "cell_type": "code",
   "execution_count": null,
   "metadata": {},
   "outputs": [],
   "source": [
    "#hide\n",
    "container = []\n",
    "for i in range(len(df.date)):\n",
    "    x = re.sub((\"-\"), \"\", df.date[i])\n",
    "    container.append(x)\n",
    "\n",
    "df.date = container\n",
    "df = df.drop(['symbol', \"id\", \"key\", \"label\"], axis = 1)"
   ]
  },
  {
   "cell_type": "markdown",
   "metadata": {},
   "source": [
    "## Predict the future stock!"
   ]
  },
  {
   "cell_type": "markdown",
   "metadata": {},
   "source": [
    "In the following lines, we first create a prediction column called \"Prediction\", each day's close price is the prediction of the previous day. Second, two datasets are created. X is the predictor variable, Y is the target variable. Preprocessing package is to nomalize our predictor variables. Then we split our data into train and test datasets for both X and Y. Then we use the Regression on the training data, then predict the closing price of X_prediction."
   ]
  },
  {
   "cell_type": "code",
   "execution_count": null,
   "metadata": {},
   "outputs": [],
   "source": [
    "def predictData(stock, days):\n",
    "    \n",
    "    if os.path.exists('./Exports'):\n",
    "        csv_name = ('Exports/' + stock + '_Export.csv')\n",
    "    else:\n",
    "        os.mkdir(\"Exports\")\n",
    "        csv_name = ('Exports/' + stock + '_Export.csv')\n",
    "\n",
    "    df.to_csv(csv_name)\n",
    "    \n",
    "    df['prediction'] = df['close'].shift(-1)\n",
    "    df.dropna(inplace = True)\n",
    "    forecast_time = int(days)\n",
    "\n",
    "    #Predicting the Stock price in the future\n",
    "    X = np.array(df.drop(['prediction'], axis=1))\n",
    "    Y = np.array(df['prediction'])\n",
    "\n",
    "    #Nomalize our predictor variables\n",
    "    X = preprocessing.scale(X)\n",
    "    print(\"\\nX aftre preprocessing:\", X)\n",
    "    X_prediction = X[-forecast_time:]\n",
    "    \n",
    "    # Split our data into train and test data\n",
    "    X_train, X_test, Y_train, Y_Test = train_test_split(X, Y, test_size=0.5)\n",
    "    print(\"\\n\\nX train:\", X_train, \"\\nX_test:\",X_test, \"\\nY_train:\", Y_train, \"\\nY_Test\", Y_Test)\n",
    "\n",
    "    #Performing the Regression on the training data\n",
    "    clf = LinearRegression()\n",
    "    clf.fit(X_train, Y_train)\n",
    "\n",
    "    #Predict the closing price of X_prediction.\n",
    "    prediction = (clf.predict(X_prediction))\n",
    "\n",
    "    last_row = df.tail(1)\n",
    "    print(\"Last row:\", last_row)\n",
    "    print(\"Last row 1:\", last_row['close'])\n",
    "\n",
    "    #Sending the SMS if the predicted price of the stock is at least 1 greater than the previous closing price\n",
    "    if (float(prediction[4]) > (float(last_row['close'])) + 1):\n",
    "        output = (\"\\n\\nStock:\" + str(stock) + \"\\nPrior Close:\\n\" + str(last_row['close']) + \"\\n\\nPrediction in 1 Day: \" + str(\n",
    "            prediction[0]) + \"\\nPrediction in 5 Days: \" + str(prediction[4]))\n",
    "        #sendMessage(output)\n",
    "        print(\"This is the output:\", output)\n",
    "\n",
    "predictData(df, 5)"
   ]
  },
  {
   "cell_type": "markdown",
   "metadata": {},
   "source": [
    "## Magic that send message through gmail!"
   ]
  },
  {
   "cell_type": "markdown",
   "metadata": {},
   "source": [
    "Eventually, the last function sendMessage(text) is for us to send messages through gamil when some conditions are triggered by using [smtplib](https://docs.python.org/3/library/smtplib.html) module. getpass() is another package use here for user enter the password to improve the security."
   ]
  },
  {
   "cell_type": "code",
   "execution_count": null,
   "metadata": {},
   "outputs": [],
   "source": [
    "def sendMessage(text):\n",
    "    # If you're using Gmail to send the message, you might need to \n",
    "    # go into the security settings of your email account and \n",
    "    # enable the \"Allow less secure apps\" option \n",
    "    username = getpass(\"Please enter your gmail address like chrisguan912@gmail.com\")\n",
    "    password = getpass(\"Please enter your password\")\n",
    "\n",
    "    vtext = getpass(\"Please enter the receiver's phone number and company's domain like 9292649156@txt.att.net\")\n",
    "   \n",
    "    message = getpass(\"Please enter your message\")\n",
    "\n",
    "    MSG = \"\"\"From: %s  \\n \n",
    "    To:      %s\\n\n",
    "    %s \"\"\" %(username, vtext, message)\n",
    "\n",
    "    server = smtplib.SMTP('smtp.gmail.com', 587)\n",
    "    server.starttls()\n",
    "    server.login(username, password)\n",
    "    server.sendmail(username, vtext, MSG)\n",
    "    server.quit()\n",
    "\n",
    "    print('Sent')"
   ]
  },
  {
   "cell_type": "markdown",
   "metadata": {},
   "source": [
    "## Conclusion\n",
    "\n",
    "The blog introduced four functions in total. The first two can support us to apply valuable data by using selenium or download from iexcloud. The third funciton is to analyze the predict the stock trend. The last few lines support us to send a message through gmail."
   ]
  }
 ],
 "metadata": {
  "interpreter": {
   "hash": "aee8b7b246df8f9039afb4144a1f6fd8d2ca17a180786b69acc140d282b71a49"
  },
  "kernelspec": {
   "display_name": "Python 3.10.1 64-bit",
   "language": "python",
   "name": "python3"
  },
  "language_info": {
   "codemirror_mode": {
    "name": "ipython",
    "version": 3
   },
   "file_extension": ".py",
   "mimetype": "text/x-python",
   "name": "python",
   "nbconvert_exporter": "python",
   "pygments_lexer": "ipython3",
   "version": "3.10.1"
  },
  "orig_nbformat": 4
 },
 "nbformat": 4,
 "nbformat_minor": 2
}
