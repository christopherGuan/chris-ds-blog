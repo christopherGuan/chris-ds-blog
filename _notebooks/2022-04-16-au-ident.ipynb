{
 "cells": [
  {
   "cell_type": "markdown",
   "metadata": {},
   "source": [
    "# Introduction to stylometry with Python 2\n",
    "> You apply ‘stylometric analysis’ on texts and determine authorship of unknown texts.\n",
    "- toc: true \n",
    "- badges: true\n",
    "- comments: true\n",
    "- author: Zeyu Guan\n",
    "- categories: [spaCy, Python, Machine Learning, Data Mining, NLP, RandomForest]\n",
    "- annotations: true\n",
    "- image: https://d3i71xaburhd42.cloudfront.net/d25c27c7a3e9f41f150e8eadbad34c1c05d67510/9-Figure1-1.png\n",
    "- hide: false\n",
    "\n",
    "## Preparation:\n",
    "\n",
    "[dataset](https://github.com/sbadirli/Open-Set-Authorship-Attribution)\n",
    "\n",
    "[Python](https://www.python.org/downloads/)\n",
    "\n",
    "[nltk](https://www.nltk.org/)\n",
    "\n",
    "[matplotlib](https://matplotlib.org/)\n",
    "\n",
    "## Background\n",
    "\n",
    "Inspired by a article [Open Set Authorship Attribution toward Demystifying Victorian\n",
    "Periodicals](https://arxiv.org/pdf/1912.08259.pdf), we are going to apply the three methods we used before on the new [dataset](https://github.com/sbadirli/Open-Set-Authorship-Attribution)\n",
    "\n",
    "\n",
    "Authorship attribution is one of the most common uses of [Stylometry](https://en.wikipedia.org/wiki/Stylometry). It is sometimes possible to guess who wrote an anonymous text by measuring certain features, such as the average number of words per sentence or the author's proclivity to use \"while\" instead of \"whilst,\" and comparing the measurements to other texts written by the suspected author. This is what we will do in this lesson, using perhaps the most famous example of disputed authorship in political writing history, the Federalist Papers, as our test case.\n",
    "\n"
   ]
  },
  {
   "cell_type": "code",
   "execution_count": 1,
   "metadata": {},
   "outputs": [],
   "source": [
    "import os, random\n",
    "import pandas as pd"
   ]
  },
  {
   "cell_type": "markdown",
   "metadata": {},
   "source": [
    "## Top 5 authors who have the most books/articles"
   ]
  },
  {
   "cell_type": "code",
   "execution_count": 2,
   "metadata": {},
   "outputs": [
    {
     "name": "stdout",
     "output_type": "stream",
     "text": [
      "In total, there are  208 books.\n"
     ]
    },
    {
     "data": {
      "text/html": [
       "<div>\n",
       "<style scoped>\n",
       "    .dataframe tbody tr th:only-of-type {\n",
       "        vertical-align: middle;\n",
       "    }\n",
       "\n",
       "    .dataframe tbody tr th {\n",
       "        vertical-align: top;\n",
       "    }\n",
       "\n",
       "    .dataframe thead th {\n",
       "        text-align: right;\n",
       "    }\n",
       "</style>\n",
       "<table border=\"1\" class=\"dataframe\">\n",
       "  <thead>\n",
       "    <tr style=\"text-align: right;\">\n",
       "      <th></th>\n",
       "      <th>Author</th>\n",
       "      <th>Count</th>\n",
       "    </tr>\n",
       "  </thead>\n",
       "  <tbody>\n",
       "    <tr>\n",
       "      <th>0</th>\n",
       "      <td>Margaret Oliphant</td>\n",
       "      <td>53</td>\n",
       "    </tr>\n",
       "    <tr>\n",
       "      <th>1</th>\n",
       "      <td>Henry Rider Haggard</td>\n",
       "      <td>45</td>\n",
       "    </tr>\n",
       "    <tr>\n",
       "      <th>2</th>\n",
       "      <td>Anthony Trollope</td>\n",
       "      <td>42</td>\n",
       "    </tr>\n",
       "    <tr>\n",
       "      <th>3</th>\n",
       "      <td>George MacDonald</td>\n",
       "      <td>34</td>\n",
       "    </tr>\n",
       "    <tr>\n",
       "      <th>4</th>\n",
       "      <td>Charlotte Mary Yonge</td>\n",
       "      <td>34</td>\n",
       "    </tr>\n",
       "  </tbody>\n",
       "</table>\n",
       "</div>"
      ],
      "text/plain": [
       "                 Author  Count\n",
       "0     Margaret Oliphant     53\n",
       "1   Henry Rider Haggard     45\n",
       "2      Anthony Trollope     42\n",
       "3      George MacDonald     34\n",
       "4  Charlotte Mary Yonge     34"
      ]
     },
     "execution_count": 2,
     "metadata": {},
     "output_type": "execute_result"
    }
   ],
   "source": [
    "N = 0 #Total count of number of files in all directories\n",
    "path = []\n",
    "count = []\n",
    "\n",
    "for dirpath, dirnames, filenames in os.walk('/Users/zeyu/Desktop/DS/Stylometric analysis 2/Cleaned data'):\n",
    "    N += len(filenames)\n",
    "    path.append(dirpath)\n",
    "    count.append(len(filenames))\n",
    "d = {'Author':path,'Count':count}\n",
    "df = pd.DataFrame(d)\n",
    "top_5 = df.sort_values('Count', ascending=False).head(5)\n",
    "top_5['Author'] = df['Author'].str.replace(r'/Users/zeyu/Desktop/DS/Stylometric analysis 2/Cleaned data/', '')\n",
    "top_5['Author'] = top_5['Author'].str.replace(r' - cleared', '')\n",
    "author = [i for i in top_5[\"Author\"]]\n",
    "top = top_5.reset_index(drop=True)\n",
    "\n",
    "total = 0\n",
    "for i in range(len(top)):\n",
    "    total += top.Count[i]\n",
    "print(\"In total, there are \" , total , \"books.\")\n",
    "\n",
    "top"
   ]
  },
  {
   "cell_type": "markdown",
   "metadata": {},
   "source": [
    "## Build up the dictionary"
   ]
  },
  {
   "cell_type": "code",
   "execution_count": 12,
   "metadata": {},
   "outputs": [],
   "source": [
    "df = df.sort_values('Count', ascending=False).head(5)\n",
    "\n",
    "papers = {}\n",
    "keys, value = [],[]\n",
    "\n",
    "for i in range(len(top)):\n",
    "        keys.append(top.Author[i])\n",
    "\n",
    "for i in df[\"Author\"]:\n",
    "    value.append(os.listdir(i))\n",
    "\n",
    "papers = dict(zip(keys, value))"
   ]
  },
  {
   "cell_type": "code",
   "execution_count": 13,
   "metadata": {},
   "outputs": [
    {
     "name": "stdout",
     "output_type": "stream",
     "text": [
      "/Users/zeyu/Desktop/DS/Stylometric analysis 2/Cleaned data/Margaret Oliphant - cleared/The Quiet Heart.txt\n",
      "/Users/zeyu/Desktop/DS/Stylometric analysis 2/Cleaned data/Margaret Oliphant - cleared/The Three Brothers.txt\n",
      "/Users/zeyu/Desktop/DS/Stylometric analysis 2/Cleaned data/Margaret Oliphant - cleared/The Two Marys.txt\n",
      "/Users/zeyu/Desktop/DS/Stylometric analysis 2/Cleaned data/Henry Rider Haggard - cleared/Swallow-A Tale of the Great Trek.txt\n",
      "/Users/zeyu/Desktop/DS/Stylometric analysis 2/Cleaned data/Henry Rider Haggard - cleared/King Solomon.txt\n",
      "/Users/zeyu/Desktop/DS/Stylometric analysis 2/Cleaned data/Henry Rider Haggard - cleared/Pearl-Maiden.txt\n",
      "/Users/zeyu/Desktop/DS/Stylometric analysis 2/Cleaned data/Anthony Trollope - cleared/The Belton Estate.txt\n",
      "/Users/zeyu/Desktop/DS/Stylometric analysis 2/Cleaned data/Anthony Trollope - cleared/Harry Heathcote of Gangoil.txt\n",
      "/Users/zeyu/Desktop/DS/Stylometric analysis 2/Cleaned data/Anthony Trollope - cleared/The Belton Estate.txt\n",
      "/Users/zeyu/Desktop/DS/Stylometric analysis 2/Cleaned data/George MacDonald - cleared/Far Above Rubies.txt\n",
      "/Users/zeyu/Desktop/DS/Stylometric analysis 2/Cleaned data/George MacDonald - cleared/David Elginbrod.txt\n",
      "/Users/zeyu/Desktop/DS/Stylometric analysis 2/Cleaned data/George MacDonald - cleared/Heather and Snow.txt\n",
      "/Users/zeyu/Desktop/DS/Stylometric analysis 2/Cleaned data/Charlotte Mary Yonge - cleared/Abbeychurch.txt\n",
      "/Users/zeyu/Desktop/DS/Stylometric analysis 2/Cleaned data/Charlotte Mary Yonge - cleared/Henrietta's Wish.txt\n",
      "/Users/zeyu/Desktop/DS/Stylometric analysis 2/Cleaned data/Charlotte Mary Yonge - cleared/Hopes and Fears.txt\n"
     ]
    }
   ],
   "source": [
    "article = []\n",
    "for i in df[\"Author\"]:\n",
    "    for j in range(3):\n",
    "        print(f\"{i}/{random.choice(os.listdir(i))}\")"
   ]
  },
  {
   "cell_type": "markdown",
   "metadata": {},
   "source": [
    "## Hold 3 articles/books and label them as unknown authors."
   ]
  },
  {
   "cell_type": "code",
   "execution_count": 27,
   "metadata": {},
   "outputs": [],
   "source": [
    "#All belongs to Margaret Oliphant\n",
    "papers[\"Unknown\"] = ['The Quiet Heart.txt', 'The Three Brothers.txt', 'The Two Marys.txt']"
   ]
  },
  {
   "cell_type": "code",
   "execution_count": 28,
   "metadata": {},
   "outputs": [
    {
     "name": "stdout",
     "output_type": "stream",
     "text": [
      "Margaret Oliphant\n",
      "Henry Rider Haggard\n",
      "Anthony Trollope\n",
      "George MacDonald\n",
      "Charlotte Mary Yonge\n",
      "Unknown\n"
     ]
    }
   ],
   "source": [
    "for author in papers.keys():\n",
    "    print(author)\n",
    "    "
   ]
  },
  {
   "cell_type": "code",
   "execution_count": 29,
   "metadata": {},
   "outputs": [],
   "source": [
    "# A function that compiles all of the text files associated with a single author into a single string\n",
    "def read_files_into_string(filenames, author):\n",
    "    strings = []\n",
    "    for filename in filenames:\n",
    "        with open(f\"/Users/zeyu/Desktop/DS/Stylometric analysis 2/Cleaned data/{author} - cleared/{filename}\") as f:\n",
    "            strings.append(f.read())\n",
    "    return '\\n'.join(strings)"
   ]
  },
  {
   "cell_type": "code",
   "execution_count": 32,
   "metadata": {},
   "outputs": [
    {
     "name": "stdout",
     "output_type": "stream",
     "text": [
      "\n",
      "\n",
      "CHAPTER I\n",
      "\n",
      "\n",
      "Lady Caroline Beaufort was supposed to be, as life goes, an unusually\n",
      "fortunate woman\n",
      "﻿\n",
      "PROLOGUE\n",
      "\n",
      "\n",
      "\n",
      "Salah-ed-din, Commander of the Faithful, the king Strong to Aid,\n",
      "Sovereign of the East\n",
      "﻿\n",
      "\n",
      "Chapter I\n",
      "\n",
      "HIRAM'S HOSPITAL\n",
      "\n",
      "\n",
      "The Rev. Septimus Harding was, a few years since, a beneficed\n",
      "clerg\n",
      "﻿\n",
      "CHAPTER I: MISS HORN\n",
      "\n",
      "\n",
      "\"Na, na; I hae nae feelin's,  thankfu' to say. I never kent ony\n",
      "guid come o\n",
      "﻿\n",
      "\n",
      "\n",
      "CHAPTER I.\n",
      "\n",
      "MOTHER BUNCH.\n",
      "\n",
      "\n",
      "There was once a wonderful fortnight in little Lucy's life.  One\n",
      "eve\n",
      "﻿\n",
      "\n",
      "\n",
      "CHAPTER I.\n",
      "\n",
      "\n",
      "“Ye’ll no ken, Jenny, if Miss Menie’s in?”\n",
      "\n",
      "“And what for should I no ken?” exclaim\n"
     ]
    }
   ],
   "source": [
    "# Make a dictionary out of the authors' corpora\n",
    "federalist_by_author = {}\n",
    "for author, files in papers.items():\n",
    "    federalist_by_author[author] = read_files_into_string(files, author)\n",
    "    #print(author, files)\n",
    "    print(federalist_by_author[author][:100])"
   ]
  },
  {
   "cell_type": "markdown",
   "metadata": {},
   "source": [
    "# Mendenhall’s Characteristic Curves of Composition"
   ]
  },
  {
   "cell_type": "code",
   "execution_count": 33,
   "metadata": {},
   "outputs": [
    {
     "data": {
      "image/png": "[encoded data removed]",
      "text/plain": [
       "<Figure size 432x288 with 1 Axes>"
      ]
     },
     "metadata": {
      "needs_background": "light"
     },
     "output_type": "display_data"
    },
    {
     "data": {
      "image/png": "[encoded data removed]",
      "text/plain": [
       "<Figure size 432x288 with 1 Axes>"
      ]
     },
     "metadata": {
      "needs_background": "light"
     },
     "output_type": "display_data"
    },
    {
     "data": {
      "image/png": "[encoded data removed]",
      "text/plain": [
       "<Figure size 432x288 with 1 Axes>"
      ]
     },
     "metadata": {
      "needs_background": "light"
     },
     "output_type": "display_data"
    }
   ],
   "source": [
    "# Load nltk\n",
    "import nltk\n",
    "%matplotlib inline\n",
    "\n",
    "# Compare the disputed papers to those written by everyone,\n",
    "# including the shared ones.\n",
    "#authors = (\"Margaret Oliphant\", \"Henry Rider Haggard\", \"Anthony Trollope\", \"George MacDonald\", \"Charlotte Mary Yonge\")\n",
    "authors = (\"Margaret Oliphant\", \"Charlotte Mary Yonge\", \"Unknown\")\n",
    "# Transform the authors' corpora into lists of word tokens\n",
    "federalist_by_author_tokens = {}\n",
    "federalist_by_author_length_distributions = {}\n",
    "for author in authors:\n",
    "    tokens = nltk.word_tokenize(federalist_by_author[author])\n",
    "\n",
    "    # Filter out punctuation\n",
    "    federalist_by_author_tokens[author] = ([token for token in tokens\n",
    "                                            if any(c.isalpha() for c in token)])\n",
    "\n",
    "    # Get a distribution of token lengths\n",
    "    token_lengths = [len(token) for token in federalist_by_author_tokens[author]]\n",
    "    federalist_by_author_length_distributions[author] = nltk.FreqDist(token_lengths)\n",
    "    federalist_by_author_length_distributions[author].plot(15,title=author)"
   ]
  },
  {
   "cell_type": "markdown",
   "metadata": {},
   "source": [
    "# Kilgariff’s Chi-Squared Method"
   ]
  },
  {
   "cell_type": "code",
   "execution_count": 34,
   "metadata": {},
   "outputs": [],
   "source": [
    "# Who are the authors we are analyzing?\n",
    "authors = (\"Margaret Oliphant\", \"Charlotte Mary Yonge\")\n",
    "\n",
    "# Lowercase the tokens so that the same word, capitalized or not,\n",
    "# counts as one word\n",
    "for author in authors:\n",
    "    federalist_by_author_tokens[author] = (\n",
    "        [token.lower() for token in federalist_by_author_tokens[author]])\n",
    "federalist_by_author_tokens[\"Unknown\"] = (\n",
    "    [token.lower() for token in federalist_by_author_tokens[\"Unknown\"]])"
   ]
  },
  {
   "cell_type": "code",
   "execution_count": 35,
   "metadata": {},
   "outputs": [
    {
     "name": "stdout",
     "output_type": "stream",
     "text": [
      "Unknown: 400833 \n",
      "Margaret Oliphant: 7811403 \n",
      "Charlotte Mary Yonge: 4665832\n"
     ]
    }
   ],
   "source": [
    "print(\"Unknown:\", len(federalist_by_author_tokens[\"Unknown\"]), \"\\nMargaret Oliphant:\", len(federalist_by_author_tokens[\"Margaret Oliphant\"]), \"\\nCharlotte Mary Yonge:\",len(federalist_by_author_tokens[\"Charlotte Mary Yonge\"]))"
   ]
  },
  {
   "cell_type": "code",
   "execution_count": 36,
   "metadata": {},
   "outputs": [
    {
     "name": "stdout",
     "output_type": "stream",
     "text": [
      "210459\n",
      "16293\n"
     ]
    }
   ],
   "source": [
    "print(federalist_by_author_tokens[\"Charlotte Mary Yonge\"].count(\"the\"))\n",
    "print(federalist_by_author_tokens[\"Unknown\"].count(\"the\"))"
   ]
  },
  {
   "cell_type": "code",
   "execution_count": 38,
   "metadata": {},
   "outputs": [
    {
     "name": "stdout",
     "output_type": "stream",
     "text": [
      "The Chi-squared statistic for candidate Margaret Oliphant is 31678.12602397497\n",
      "The Chi-squared statistic for candidate Charlotte Mary Yonge is 50129.78017012059\n"
     ]
    }
   ],
   "source": [
    "# Calculate chisquared for each of the two candidate authors\n",
    "for author in authors:\n",
    "\n",
    "    # First, build a joint corpus and identify the 500 most frequent words in it\n",
    "    joint_corpus = (federalist_by_author_tokens[author] +\n",
    "                    federalist_by_author_tokens[\"Unknown\"])\n",
    "    joint_freq_dist = nltk.FreqDist(joint_corpus)\n",
    "    most_common = list(joint_freq_dist.most_common(500))\n",
    "\n",
    "    # What proportion of the joint corpus is made up\n",
    "    # of the candidate author's tokens?\n",
    "    author_share = (len(federalist_by_author_tokens[author])\n",
    "                    / len(joint_corpus))\n",
    "\n",
    "    # Now, let's look bat the 500 most common words in the candidate\n",
    "    # author's corpus and compare the number of times they can be observed\n",
    "    # to what would be expected if the author's papers\n",
    "    # and the Disputed papers were both random samples from the same distribution.\n",
    "    chisquared = 0\n",
    "\n",
    "    for word,joint_count in most_common:\n",
    "\n",
    "        # How often do we really see this common word?\n",
    "        author_count = federalist_by_author_tokens[author].count(word)\n",
    "        disputed_count = federalist_by_author_tokens[\"Unknown\"].count(word)\n",
    "\n",
    "        # How often should we see it?\n",
    "        expected_author_count = joint_count * author_share\n",
    "        expected_disputed_count = joint_count * (1-author_share)\n",
    "\n",
    "        # Add the word's contribution to the chi-squared statistic\n",
    "\n",
    "        chisquared += ((author_count-expected_author_count) *\n",
    "                       (author_count-expected_author_count) /\n",
    "                       expected_author_count)\n",
    "\n",
    "\n",
    "        chisquared += ((disputed_count-expected_disputed_count) *\n",
    "                       (disputed_count-expected_disputed_count)\n",
    "                       / expected_disputed_count)\n",
    "                       \n",
    "\n",
    "    print(\"The Chi-squared statistic for candidate\", author, \"is\", chisquared)"
   ]
  },
  {
   "cell_type": "markdown",
   "metadata": {},
   "source": [
    "Because the three unknown articles are all from Margaret Oliphant, as we expected, the results of Chi-Squared Method show that compared with Charlotte Mary Yonge, Margaret Oliphant's Chi-squared statistic is relatively lower, which means that The unknown article is closer to being written by Margaret Oliphant."
   ]
  },
  {
   "cell_type": "markdown",
   "metadata": {},
   "source": [
    "# John Burrows’ Delta Method (Advanced)"
   ]
  },
  {
   "cell_type": "markdown",
   "metadata": {},
   "source": [
    "## 1. Feature Selection\n",
    "Let's group all of the subcorpora into a single corpus so that Delta can determine a \"standard\" to operate with. Then, choose a few words to serve as features. Remember that we used 500 words to calculate Kilgariff's chi-squared; this time, we'll use a smaller group of 30 words as our features, with the majority, if not all, of them being function words and common verbs. The output is a sample of the most frequent words with their frequency occurence."
   ]
  },
  {
   "cell_type": "code",
   "execution_count": 39,
   "metadata": {},
   "outputs": [
    {
     "data": {
      "text/plain": [
       "[('the', 563740),\n",
       " ('and', 414606),\n",
       " ('to', 381479),\n",
       " ('of', 318426),\n",
       " ('a', 262137),\n",
       " ('was', 215944),\n",
       " ('her', 190855),\n",
       " ('i', 188527),\n",
       " ('in', 185949),\n",
       " ('it', 181759)]"
      ]
     },
     "execution_count": 39,
     "metadata": {},
     "output_type": "execute_result"
    }
   ],
   "source": [
    "# Who are we dealing with this time?\n",
    "authors = (\"Margaret Oliphant\", \"Charlotte Mary Yonge\", \"Unknown\")\n",
    "\n",
    "# Convert papers to lowercase to count all tokens of the same word together\n",
    "# regardless of case\n",
    "for author in authors:\n",
    "    federalist_by_author_tokens[author] = (\n",
    "        [tok.lower() for tok in federalist_by_author_tokens[author]])\n",
    "\n",
    "# Combine every paper except our test case into a single corpus\n",
    "whole_corpus = []\n",
    "for author in authors:\n",
    "    whole_corpus += federalist_by_author_tokens[author]\n",
    "\n",
    "# Get a frequency distribution\n",
    "whole_corpus_freq_dist = list(nltk.FreqDist(whole_corpus).most_common(30))\n",
    "whole_corpus_freq_dist[ :10 ]"
   ]
  },
  {
   "cell_type": "markdown",
   "metadata": {},
   "source": [
    "## 2. Calculating features for each subcorpus\n",
    "\n",
    "Consider the frequency of each characteristic in each candidate's subcorpus as a percentage of the total number of tokens in the subcorpus. We'll compute these values and store them in a dictionary of dictionaries."
   ]
  },
  {
   "cell_type": "code",
   "execution_count": 40,
   "metadata": {},
   "outputs": [],
   "source": [
    "# The main data structure\n",
    "features = [word for word,freq in whole_corpus_freq_dist]\n",
    "feature_freqs = {}\n",
    "\n",
    "for author in authors:\n",
    "    # A dictionary for each candidate's features\n",
    "    feature_freqs[author] = {}\n",
    "\n",
    "    # A helper value containing the number of tokens in the author's subcorpus\n",
    "    overall = len(federalist_by_author_tokens[author])\n",
    "\n",
    "    # Calculate each feature's presence in the subcorpus\n",
    "    for feature in features:\n",
    "        presence = federalist_by_author_tokens[author].count(feature)\n",
    "        feature_freqs[author][feature] = presence / overall"
   ]
  },
  {
   "cell_type": "markdown",
   "metadata": {},
   "source": [
    "## 3. Calculating feature averages and standard \n",
    "We may calculate a \"mean of means\" and a standard deviation for each feature based on the feature frequencies for all four subcorpora that we just computed. These values will be saved in another \"dictionary of dictionaries.\""
   ]
  },
  {
   "cell_type": "code",
   "execution_count": 41,
   "metadata": {},
   "outputs": [],
   "source": [
    "import math\n",
    "\n",
    "# The data structure into which we will be storing the \"corpus standard\" statistics\n",
    "corpus_features = {}\n",
    "\n",
    "# For each feature...\n",
    "for feature in features:\n",
    "    # Create a sub-dictionary that will contain the feature's mean\n",
    "    # and standard deviation\n",
    "    corpus_features[feature] = {}\n",
    "\n",
    "    # Calculate the mean of the frequencies expressed in the subcorpora\n",
    "    feature_average = 0\n",
    "    for author in authors:\n",
    "        feature_average += feature_freqs[author][feature]\n",
    "    feature_average /= len(authors)\n",
    "    corpus_features[feature][\"Mean\"] = feature_average\n",
    "\n",
    "    # Calculate the standard deviation using the basic formula for a sample\n",
    "    feature_stdev = 0\n",
    "    for author in authors:\n",
    "        diff = feature_freqs[author][feature] - corpus_features[feature][\"Mean\"]\n",
    "        feature_stdev += diff*diff\n",
    "    feature_stdev /= (len(authors) - 1)\n",
    "    feature_stdev = math.sqrt(feature_stdev)\n",
    "    corpus_features[feature][\"StdDev\"] = feature_stdev"
   ]
  },
  {
   "cell_type": "markdown",
   "metadata": {},
   "source": [
    "## 4. Calculating z-scores\n",
    "Following that, we convert the observed feature frequencies in the five candidates' subcorpora into z-scores that describe how much these observations deviate from the \"corpus norm.\" Nothing special here: we just apply the z-score definition to each characteristic and save the results in yet another two-dimensional array."
   ]
  },
  {
   "cell_type": "code",
   "execution_count": 42,
   "metadata": {},
   "outputs": [],
   "source": [
    "feature_zscores = {}\n",
    "for author in authors:\n",
    "    feature_zscores[author] = {}\n",
    "    for feature in features:\n",
    "\n",
    "        # Z-score definition = (value - mean) / stddev\n",
    "        # We use intermediate variables to make the code easier to read\n",
    "        feature_val = feature_freqs[author][feature]\n",
    "        feature_mean = corpus_features[feature][\"Mean\"]\n",
    "        feature_stdev = corpus_features[feature][\"StdDev\"]\n",
    "        feature_zscores[author][feature] = ((feature_val-feature_mean) /\n",
    "                                            feature_stdev)"
   ]
  },
  {
   "cell_type": "markdown",
   "metadata": {},
   "source": [
    "## 5. Calculating features and z-scores for our test case\n",
    "Following that, we must contrast Federalist 64 with the corpus. The following code piece, which effectively summarizes what we've done so far, counts the frequency of each of our 30 characteristics in Federalist 64 and computes z-scores accordingly"
   ]
  },
  {
   "cell_type": "code",
   "execution_count": 44,
   "metadata": {},
   "outputs": [
    {
     "name": "stdout",
     "output_type": "stream",
     "text": [
      "Test case z-score for feature the is -1.0369726989750698\n",
      "Test case z-score for feature and is -0.0497886780777791\n",
      "Test case z-score for feature to is -0.716019896234939\n",
      "Test case z-score for feature of is -0.18990991549542452\n",
      "Test case z-score for feature a is 0.6613199834721966\n",
      "Test case z-score for feature was is -0.3500319869503652\n",
      "Test case z-score for feature her is 0.45610358244051996\n",
      "Test case z-score for feature i is 1.1196025205302194\n",
      "Test case z-score for feature in is 0.35371101557558254\n",
      "Test case z-score for feature it is 0.7725432211572801\n",
      "Test case z-score for feature that is -1.1366067448556416\n",
      "Test case z-score for feature he is 0.06731668473266669\n",
      "Test case z-score for feature she is -0.7205299908077945\n",
      "Test case z-score for feature you is 0.4725705063722008\n",
      "Test case z-score for feature had is -0.8082846743848723\n",
      "Test case z-score for feature not is 0.19768017034008217\n",
      "Test case z-score for feature his is -0.8516173968989288\n",
      "Test case z-score for feature with is 0.6880154187833976\n",
      "Test case z-score for feature as is -0.07154604316272775\n",
      "Test case z-score for feature but is 0.9509875297754808\n",
      "Test case z-score for feature for is -0.46971047816277584\n",
      "Test case z-score for feature said is 0.7018276126890814\n",
      "Test case z-score for feature be is -0.5454361572840075\n",
      "Test case z-score for feature is is 1.0586318933848964\n",
      "Test case z-score for feature at is -0.458852981163815\n",
      "Test case z-score for feature have is 1.1006232177539035\n",
      "Test case z-score for feature him is -0.8832384141792273\n",
      "Test case z-score for feature all is 0.6110455419059747\n",
      "Test case z-score for feature so is 1.055628302265141\n",
      "Test case z-score for feature which is 0.2752718284248235\n"
     ]
    }
   ],
   "source": [
    "# Tokenize the test case\n",
    "testcase_tokens = nltk.word_tokenize(federalist_by_author[\"Unknown\"])\n",
    "\n",
    "# Filter out punctuation and lowercase the tokens\n",
    "testcase_tokens = [token.lower() for token in testcase_tokens\n",
    "                   if any(c.isalpha() for c in token)]\n",
    "\n",
    "# Calculate the test case's features\n",
    "overall = len(testcase_tokens)\n",
    "testcase_freqs = {}\n",
    "for feature in features:\n",
    "    presence = testcase_tokens.count(feature)\n",
    "    testcase_freqs[feature] = presence / overall\n",
    "\n",
    "# Calculate the test case's feature z-scores\n",
    "testcase_zscores = {}\n",
    "for feature in features:\n",
    "    feature_val = testcase_freqs[feature]\n",
    "    feature_mean = corpus_features[feature][\"Mean\"]\n",
    "    feature_stdev = corpus_features[feature][\"StdDev\"]\n",
    "    testcase_zscores[feature] = (feature_val - feature_mean) / feature_stdev\n",
    "    print(\"Test case z-score for feature\", feature, \"is\", testcase_zscores[feature])"
   ]
  },
  {
   "cell_type": "markdown",
   "metadata": {},
   "source": [
    "## 6. Calculating Delta\n",
    "Finally, we utilize Burrows' Delta calculation to get a single score comparing Federalist 64 to each of the five \"possible writers.\" Reminder: the lower the Delta score, the more similar the stylometric signature of Federalist 64 is to the candidate's."
   ]
  },
  {
   "cell_type": "code",
   "execution_count": 45,
   "metadata": {},
   "outputs": [
    {
     "name": "stdout",
     "output_type": "stream",
     "text": [
      "Delta score for candidate Margaret Oliphant is 0.8130300274650515\n",
      "Delta score for candidate Charlotte Mary Yonge is 1.500105975962623\n",
      "Delta score for candidate Unknown is 0.0\n"
     ]
    }
   ],
   "source": [
    "for author in authors:\n",
    "    delta = 0\n",
    "    for feature in features:\n",
    "        delta += math.fabs((testcase_zscores[feature] -\n",
    "                            feature_zscores[author][feature]))\n",
    "    delta /= len(features)\n",
    "    print( \"Delta score for candidate\", author, \"is\", delta )"
   ]
  }
 ],
 "metadata": {
  "interpreter": {
   "hash": "aee8b7b246df8f9039afb4144a1f6fd8d2ca17a180786b69acc140d282b71a49"
  },
  "kernelspec": {
   "display_name": "Python 3.10.1 64-bit",
   "language": "python",
   "name": "python3"
  },
  "language_info": {
   "codemirror_mode": {
    "name": "ipython",
    "version": 3
   },
   "file_extension": ".py",
   "mimetype": "text/x-python",
   "name": "python",
   "nbconvert_exporter": "python",
   "pygments_lexer": "ipython3",
   "version": "3.10.1"
  },
  "orig_nbformat": 4
 },
 "nbformat": 4,
 "nbformat_minor": 2
}
