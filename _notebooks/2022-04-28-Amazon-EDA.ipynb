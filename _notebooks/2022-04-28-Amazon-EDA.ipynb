{
 "cells": [
  {
   "cell_type": "markdown",
   "metadata": {
    "id": "gjSc2zxnqu0D"
   },
   "source": [
    "# Amazon Shure MV7 EDA and Sentement Analysis\n",
    "\n",
    "- toc: true\n",
    "- branch: master\n",
    "- badges: true\n",
    "- comments: true\n",
    "- categories: [Fastpages, Jupyter, Python, Selenium, Stoc]\n",
    "- annotations: true\n",
    "- hide: false\n",
    "- image: \"https://luminousmen.com/media/exploratory-data-analysis.jpg\"\n",
    "- layout: post\n",
    "- search_exclude: true"
   ]
  },
  {
   "cell_type": "markdown",
   "metadata": {
    "id": "2-_exqdxq0SD"
   },
   "source": [
    "### Required Packages\n",
    "\n",
    "[wordcloud](https://github.com/amueller/word_cloud), \n",
    "[geopandas](https://geopandas.org/en/stable/getting_started/install.html), \n",
    "[nbformat](https://pypi.org/project/nbformat/), \n",
    "[seaborn](https://seaborn.pydata.org/installing.html), \n",
    "[scikit-learn](https://scikit-learn.org/stable/install.html)"
   ]
  },
  {
   "cell_type": "markdown",
   "metadata": {},
   "source": [
    "![]({{site.baseurl}}/images/diagram.png \"https://github.com/fastai/fastpages\")"
   ]
  },
  {
   "cell_type": "markdown",
   "metadata": {
    "id": "0I1n-GrEq6BM"
   },
   "source": [
    "### Now let's get started!\n",
    "First thing first, you need to load all the necessary libraries:"
   ]
  },
  {
   "cell_type": "code",
   "execution_count": 61,
   "metadata": {
    "id": "_91_AU3Hqk9T"
   },
   "outputs": [],
   "source": [
    "import pandas as pd\n",
    "from matplotlib import pyplot as plt\n",
    "import numpy as np\n",
    "from wordcloud import WordCloud\n",
    "from wordcloud import STOPWORDS\n",
    "import re\n",
    "import plotly.graph_objects as go\n",
    "import seaborn as sns\n",
    "import random\n",
    "import plotly.express as px"
   ]
  },
  {
   "cell_type": "markdown",
   "metadata": {
    "id": "LLZCHICvqk9T"
   },
   "source": [
    "## Read the Data"
   ]
  },
  {
   "cell_type": "code",
   "execution_count": 62,
   "metadata": {
    "id": "-OoHrVyiqk9U"
   },
   "outputs": [
    {
     "data": {
      "text/html": [
       "<div>\n",
       "<style scoped>\n",
       "    .dataframe tbody tr th:only-of-type {\n",
       "        vertical-align: middle;\n",
       "    }\n",
       "\n",
       "    .dataframe tbody tr th {\n",
       "        vertical-align: top;\n",
       "    }\n",
       "\n",
       "    .dataframe thead th {\n",
       "        text-align: right;\n",
       "    }\n",
       "</style>\n",
       "<table border=\"1\" class=\"dataframe\">\n",
       "  <thead>\n",
       "    <tr style=\"text-align: right;\">\n",
       "      <th></th>\n",
       "      <th>name</th>\n",
       "      <th>stars1</th>\n",
       "      <th>stars2</th>\n",
       "      <th>date</th>\n",
       "      <th>title</th>\n",
       "      <th>review</th>\n",
       "    </tr>\n",
       "  </thead>\n",
       "  <tbody>\n",
       "    <tr>\n",
       "      <th>0</th>\n",
       "      <td>The Brady Report</td>\n",
       "      <td>2.0 out of 5 stars</td>\n",
       "      <td>NaN</td>\n",
       "      <td>Reviewed in the United States on November 12, ...</td>\n",
       "      <td>Not worth it.</td>\n",
       "      <td>This is Shure trying to bait people into buyin...</td>\n",
       "    </tr>\n",
       "    <tr>\n",
       "      <th>1</th>\n",
       "      <td>Billy</td>\n",
       "      <td>5.0 out of 5 stars</td>\n",
       "      <td>NaN</td>\n",
       "      <td>Reviewed in the United States on October 27, 2020</td>\n",
       "      <td>Outstanding Microphone for Video Calls</td>\n",
       "      <td>I didn't even know that I wanted to sound like...</td>\n",
       "    </tr>\n",
       "    <tr>\n",
       "      <th>2</th>\n",
       "      <td>Matthew G.</td>\n",
       "      <td>4.0 out of 5 stars</td>\n",
       "      <td>NaN</td>\n",
       "      <td>Reviewed in the United States on November 1, 2020</td>\n",
       "      <td>Great, but not an SM7B replacement. Look elsew...</td>\n",
       "      <td>This microphone fits perfectly for my use case...</td>\n",
       "    </tr>\n",
       "    <tr>\n",
       "      <th>3</th>\n",
       "      <td>nashing</td>\n",
       "      <td>1.0 out of 5 stars</td>\n",
       "      <td>NaN</td>\n",
       "      <td>Reviewed in the United States on January 28, 2021</td>\n",
       "      <td>USB users read first!! Very poor micro USB port.</td>\n",
       "      <td>The media could not be loaded.  So it kind of ...</td>\n",
       "    </tr>\n",
       "    <tr>\n",
       "      <th>4</th>\n",
       "      <td>Alex T</td>\n",
       "      <td>5.0 out of 5 stars</td>\n",
       "      <td>NaN</td>\n",
       "      <td>Reviewed in the United States on October 27, 2020</td>\n",
       "      <td>Amazing vocal sound, sturdy, but touch control...</td>\n",
       "      <td>I'll start right off by saying that the Shure ...</td>\n",
       "    </tr>\n",
       "    <tr>\n",
       "      <th>...</th>\n",
       "      <td>...</td>\n",
       "      <td>...</td>\n",
       "      <td>...</td>\n",
       "      <td>...</td>\n",
       "      <td>...</td>\n",
       "      <td>...</td>\n",
       "    </tr>\n",
       "    <tr>\n",
       "      <th>515</th>\n",
       "      <td>Booklover</td>\n",
       "      <td>NaN</td>\n",
       "      <td>4.0 out of 5 stars</td>\n",
       "      <td>Reviewed in Canada on March 1, 2021</td>\n",
       "      <td>Very effective product</td>\n",
       "      <td>This arrived in an easy to open, and giftable ...</td>\n",
       "    </tr>\n",
       "    <tr>\n",
       "      <th>516</th>\n",
       "      <td>thychubbz</td>\n",
       "      <td>NaN</td>\n",
       "      <td>5.0 out of 5 stars</td>\n",
       "      <td>Reviewed in Canada on November 24, 2020</td>\n",
       "      <td>Great voice quality</td>\n",
       "      <td>Whether you have a podcast or you do a lot of ...</td>\n",
       "    </tr>\n",
       "    <tr>\n",
       "      <th>517</th>\n",
       "      <td>Crazy Craze</td>\n",
       "      <td>NaN</td>\n",
       "      <td>5.0 out of 5 stars</td>\n",
       "      <td>Reviewed in Canada on November 20, 2020</td>\n",
       "      <td>Crisp, clean recording</td>\n",
       "      <td>This is a really good microphone that puts eve...</td>\n",
       "    </tr>\n",
       "    <tr>\n",
       "      <th>518</th>\n",
       "      <td>Amazon Elite Reviewers</td>\n",
       "      <td>NaN</td>\n",
       "      <td>5.0 out of 5 stars</td>\n",
       "      <td>Reviewed in Canada on November 17, 2020</td>\n",
       "      <td>Great mic!</td>\n",
       "      <td>The Good- Amazing sound quality- Easy setup- E...</td>\n",
       "    </tr>\n",
       "    <tr>\n",
       "      <th>519</th>\n",
       "      <td>A</td>\n",
       "      <td>NaN</td>\n",
       "      <td>5.0 out of 5 stars</td>\n",
       "      <td>Reviewed in the United Kingdom on November 11,...</td>\n",
       "      <td>Great microphone</td>\n",
       "      <td>Great recording quality, really surprised by t...</td>\n",
       "    </tr>\n",
       "  </tbody>\n",
       "</table>\n",
       "<p>520 rows × 6 columns</p>\n",
       "</div>"
      ],
      "text/plain": [
       "                       name              stars1              stars2  \\\n",
       "0          The Brady Report  2.0 out of 5 stars                 NaN   \n",
       "1                     Billy  5.0 out of 5 stars                 NaN   \n",
       "2                Matthew G.  4.0 out of 5 stars                 NaN   \n",
       "3                   nashing  1.0 out of 5 stars                 NaN   \n",
       "4                    Alex T  5.0 out of 5 stars                 NaN   \n",
       "..                      ...                 ...                 ...   \n",
       "515               Booklover                 NaN  4.0 out of 5 stars   \n",
       "516               thychubbz                 NaN  5.0 out of 5 stars   \n",
       "517             Crazy Craze                 NaN  5.0 out of 5 stars   \n",
       "518  Amazon Elite Reviewers                 NaN  5.0 out of 5 stars   \n",
       "519                       A                 NaN  5.0 out of 5 stars   \n",
       "\n",
       "                                                  date  \\\n",
       "0    Reviewed in the United States on November 12, ...   \n",
       "1    Reviewed in the United States on October 27, 2020   \n",
       "2    Reviewed in the United States on November 1, 2020   \n",
       "3    Reviewed in the United States on January 28, 2021   \n",
       "4    Reviewed in the United States on October 27, 2020   \n",
       "..                                                 ...   \n",
       "515                Reviewed in Canada on March 1, 2021   \n",
       "516            Reviewed in Canada on November 24, 2020   \n",
       "517            Reviewed in Canada on November 20, 2020   \n",
       "518            Reviewed in Canada on November 17, 2020   \n",
       "519  Reviewed in the United Kingdom on November 11,...   \n",
       "\n",
       "                                                 title  \\\n",
       "0                                        Not worth it.   \n",
       "1               Outstanding Microphone for Video Calls   \n",
       "2    Great, but not an SM7B replacement. Look elsew...   \n",
       "3     USB users read first!! Very poor micro USB port.   \n",
       "4    Amazing vocal sound, sturdy, but touch control...   \n",
       "..                                                 ...   \n",
       "515                             Very effective product   \n",
       "516                                Great voice quality   \n",
       "517                             Crisp, clean recording   \n",
       "518                                         Great mic!   \n",
       "519                                   Great microphone   \n",
       "\n",
       "                                                review  \n",
       "0    This is Shure trying to bait people into buyin...  \n",
       "1    I didn't even know that I wanted to sound like...  \n",
       "2    This microphone fits perfectly for my use case...  \n",
       "3    The media could not be loaded.  So it kind of ...  \n",
       "4    I'll start right off by saying that the Shure ...  \n",
       "..                                                 ...  \n",
       "515  This arrived in an easy to open, and giftable ...  \n",
       "516  Whether you have a podcast or you do a lot of ...  \n",
       "517  This is a really good microphone that puts eve...  \n",
       "518  The Good- Amazing sound quality- Easy setup- E...  \n",
       "519  Great recording quality, really surprised by t...  \n",
       "\n",
       "[520 rows x 6 columns]"
      ]
     },
     "execution_count": 62,
     "metadata": {},
     "output_type": "execute_result"
    }
   ],
   "source": [
    "#Import Data\n",
    "df = pd.read_csv(\"/Users/zeyu/Desktop/DS/Ebay & Amazon/Amazon_reviews_scraping/Amazon_reviews_scraping/full_reviews.csv\")\n",
    "df"
   ]
  },
  {
   "cell_type": "markdown",
   "metadata": {
    "id": "0aQpQsaZqk9U"
   },
   "source": [
    "## Data Cleaning\n",
    "\n",
    "Step 1:\n",
    "- Splite column Date to Country and Date\n",
    "- Combine the two rating columns to one\n",
    "- Convert type of date from string to datetime"
   ]
  },
  {
   "cell_type": "code",
   "execution_count": 63,
   "metadata": {
    "id": "XK8r9G7iqk9V"
   },
   "outputs": [],
   "source": [
    "#Clean Data\n",
    "info = []\n",
    "for i in df[\"date\"]:\n",
    "    x = re.sub(\"Reviewed in \", \"\", i)\n",
    "    x1 = re.sub(\" on \", \"*\", x)\n",
    "    info.append(x1)\n",
    "\n",
    "df[\"date\"] = pd.DataFrame({\"date\": info})\n",
    "df[['country','date']] = df.date.apply(\n",
    "   lambda x: pd.Series(str(x).split(\"*\")))\n",
    "\n",
    "star = []\n",
    "star = df.stars1.combine_first(df.stars2)\n",
    "df[\"star\"] = pd.DataFrame({\"star\": star})\n",
    "\n",
    "del df['stars1']\n",
    "del df['stars2']\n",
    "\n",
    "#Convert String to Date\n",
    "df.date = pd.to_datetime(df.date)"
   ]
  },
  {
   "cell_type": "code",
   "execution_count": 64,
   "metadata": {},
   "outputs": [
    {
     "data": {
      "text/html": [
       "<div>\n",
       "<style scoped>\n",
       "    .dataframe tbody tr th:only-of-type {\n",
       "        vertical-align: middle;\n",
       "    }\n",
       "\n",
       "    .dataframe tbody tr th {\n",
       "        vertical-align: top;\n",
       "    }\n",
       "\n",
       "    .dataframe thead th {\n",
       "        text-align: right;\n",
       "    }\n",
       "</style>\n",
       "<table border=\"1\" class=\"dataframe\">\n",
       "  <thead>\n",
       "    <tr style=\"text-align: right;\">\n",
       "      <th></th>\n",
       "      <th>name</th>\n",
       "      <th>date</th>\n",
       "      <th>title</th>\n",
       "      <th>review</th>\n",
       "      <th>country</th>\n",
       "      <th>star</th>\n",
       "    </tr>\n",
       "  </thead>\n",
       "  <tbody>\n",
       "    <tr>\n",
       "      <th>0</th>\n",
       "      <td>The Brady Report</td>\n",
       "      <td>2020-11-12</td>\n",
       "      <td>Not worth it.</td>\n",
       "      <td>This is Shure trying to bait people into buyin...</td>\n",
       "      <td>the United States</td>\n",
       "      <td>2.0 out of 5 stars</td>\n",
       "    </tr>\n",
       "    <tr>\n",
       "      <th>1</th>\n",
       "      <td>Billy</td>\n",
       "      <td>2020-10-27</td>\n",
       "      <td>Outstanding Microphone for Video Calls</td>\n",
       "      <td>I didn't even know that I wanted to sound like...</td>\n",
       "      <td>the United States</td>\n",
       "      <td>5.0 out of 5 stars</td>\n",
       "    </tr>\n",
       "    <tr>\n",
       "      <th>2</th>\n",
       "      <td>Matthew G.</td>\n",
       "      <td>2020-11-01</td>\n",
       "      <td>Great, but not an SM7B replacement. Look elsew...</td>\n",
       "      <td>This microphone fits perfectly for my use case...</td>\n",
       "      <td>the United States</td>\n",
       "      <td>4.0 out of 5 stars</td>\n",
       "    </tr>\n",
       "    <tr>\n",
       "      <th>3</th>\n",
       "      <td>nashing</td>\n",
       "      <td>2021-01-28</td>\n",
       "      <td>USB users read first!! Very poor micro USB port.</td>\n",
       "      <td>The media could not be loaded.  So it kind of ...</td>\n",
       "      <td>the United States</td>\n",
       "      <td>1.0 out of 5 stars</td>\n",
       "    </tr>\n",
       "    <tr>\n",
       "      <th>4</th>\n",
       "      <td>Alex T</td>\n",
       "      <td>2020-10-27</td>\n",
       "      <td>Amazing vocal sound, sturdy, but touch control...</td>\n",
       "      <td>I'll start right off by saying that the Shure ...</td>\n",
       "      <td>the United States</td>\n",
       "      <td>5.0 out of 5 stars</td>\n",
       "    </tr>\n",
       "    <tr>\n",
       "      <th>...</th>\n",
       "      <td>...</td>\n",
       "      <td>...</td>\n",
       "      <td>...</td>\n",
       "      <td>...</td>\n",
       "      <td>...</td>\n",
       "      <td>...</td>\n",
       "    </tr>\n",
       "    <tr>\n",
       "      <th>515</th>\n",
       "      <td>Booklover</td>\n",
       "      <td>2021-03-01</td>\n",
       "      <td>Very effective product</td>\n",
       "      <td>This arrived in an easy to open, and giftable ...</td>\n",
       "      <td>Canada</td>\n",
       "      <td>4.0 out of 5 stars</td>\n",
       "    </tr>\n",
       "    <tr>\n",
       "      <th>516</th>\n",
       "      <td>thychubbz</td>\n",
       "      <td>2020-11-24</td>\n",
       "      <td>Great voice quality</td>\n",
       "      <td>Whether you have a podcast or you do a lot of ...</td>\n",
       "      <td>Canada</td>\n",
       "      <td>5.0 out of 5 stars</td>\n",
       "    </tr>\n",
       "    <tr>\n",
       "      <th>517</th>\n",
       "      <td>Crazy Craze</td>\n",
       "      <td>2020-11-20</td>\n",
       "      <td>Crisp, clean recording</td>\n",
       "      <td>This is a really good microphone that puts eve...</td>\n",
       "      <td>Canada</td>\n",
       "      <td>5.0 out of 5 stars</td>\n",
       "    </tr>\n",
       "    <tr>\n",
       "      <th>518</th>\n",
       "      <td>Amazon Elite Reviewers</td>\n",
       "      <td>2020-11-17</td>\n",
       "      <td>Great mic!</td>\n",
       "      <td>The Good- Amazing sound quality- Easy setup- E...</td>\n",
       "      <td>Canada</td>\n",
       "      <td>5.0 out of 5 stars</td>\n",
       "    </tr>\n",
       "    <tr>\n",
       "      <th>519</th>\n",
       "      <td>A</td>\n",
       "      <td>2020-11-11</td>\n",
       "      <td>Great microphone</td>\n",
       "      <td>Great recording quality, really surprised by t...</td>\n",
       "      <td>the United Kingdom</td>\n",
       "      <td>5.0 out of 5 stars</td>\n",
       "    </tr>\n",
       "  </tbody>\n",
       "</table>\n",
       "<p>520 rows × 6 columns</p>\n",
       "</div>"
      ],
      "text/plain": [
       "                       name       date  \\\n",
       "0          The Brady Report 2020-11-12   \n",
       "1                     Billy 2020-10-27   \n",
       "2                Matthew G. 2020-11-01   \n",
       "3                   nashing 2021-01-28   \n",
       "4                    Alex T 2020-10-27   \n",
       "..                      ...        ...   \n",
       "515               Booklover 2021-03-01   \n",
       "516               thychubbz 2020-11-24   \n",
       "517             Crazy Craze 2020-11-20   \n",
       "518  Amazon Elite Reviewers 2020-11-17   \n",
       "519                       A 2020-11-11   \n",
       "\n",
       "                                                 title  \\\n",
       "0                                        Not worth it.   \n",
       "1               Outstanding Microphone for Video Calls   \n",
       "2    Great, but not an SM7B replacement. Look elsew...   \n",
       "3     USB users read first!! Very poor micro USB port.   \n",
       "4    Amazing vocal sound, sturdy, but touch control...   \n",
       "..                                                 ...   \n",
       "515                             Very effective product   \n",
       "516                                Great voice quality   \n",
       "517                             Crisp, clean recording   \n",
       "518                                         Great mic!   \n",
       "519                                   Great microphone   \n",
       "\n",
       "                                                review             country  \\\n",
       "0    This is Shure trying to bait people into buyin...   the United States   \n",
       "1    I didn't even know that I wanted to sound like...   the United States   \n",
       "2    This microphone fits perfectly for my use case...   the United States   \n",
       "3    The media could not be loaded.  So it kind of ...   the United States   \n",
       "4    I'll start right off by saying that the Shure ...   the United States   \n",
       "..                                                 ...                 ...   \n",
       "515  This arrived in an easy to open, and giftable ...              Canada   \n",
       "516  Whether you have a podcast or you do a lot of ...              Canada   \n",
       "517  This is a really good microphone that puts eve...              Canada   \n",
       "518  The Good- Amazing sound quality- Easy setup- E...              Canada   \n",
       "519  Great recording quality, really surprised by t...  the United Kingdom   \n",
       "\n",
       "                   star  \n",
       "0    2.0 out of 5 stars  \n",
       "1    5.0 out of 5 stars  \n",
       "2    4.0 out of 5 stars  \n",
       "3    1.0 out of 5 stars  \n",
       "4    5.0 out of 5 stars  \n",
       "..                  ...  \n",
       "515  4.0 out of 5 stars  \n",
       "516  5.0 out of 5 stars  \n",
       "517  5.0 out of 5 stars  \n",
       "518  5.0 out of 5 stars  \n",
       "519  5.0 out of 5 stars  \n",
       "\n",
       "[520 rows x 6 columns]"
      ]
     },
     "execution_count": 64,
     "metadata": {},
     "output_type": "execute_result"
    }
   ],
   "source": [
    "df"
   ]
  },
  {
   "cell_type": "markdown",
   "metadata": {
    "id": "5_KkxEXVsz6b"
   },
   "source": [
    "Step 2:\n",
    "- Two methods to verify if column \"star\" contain any NaN\n",
    "- Converted the type of column \"star\" from string to Int"
   ]
  },
  {
   "cell_type": "code",
   "execution_count": 65,
   "metadata": {
    "id": "vP0M2XXTqk9X",
    "outputId": "787aaa4e-4ddf-439a-8b38-06203c5c2f76"
   },
   "outputs": [
    {
     "data": {
      "text/plain": [
       "False"
      ]
     },
     "execution_count": 65,
     "metadata": {},
     "output_type": "execute_result"
    }
   ],
   "source": [
    "\"nan\" in df['star']"
   ]
  },
  {
   "cell_type": "code",
   "execution_count": 66,
   "metadata": {
    "id": "1rdO7CN9qk9Y",
    "outputId": "3a29644b-c1a7-4ed2-e068-ef8a8858d3b3"
   },
   "outputs": [
    {
     "data": {
      "text/html": [
       "<div>\n",
       "<style scoped>\n",
       "    .dataframe tbody tr th:only-of-type {\n",
       "        vertical-align: middle;\n",
       "    }\n",
       "\n",
       "    .dataframe tbody tr th {\n",
       "        vertical-align: top;\n",
       "    }\n",
       "\n",
       "    .dataframe thead th {\n",
       "        text-align: right;\n",
       "    }\n",
       "</style>\n",
       "<table border=\"1\" class=\"dataframe\">\n",
       "  <thead>\n",
       "    <tr style=\"text-align: right;\">\n",
       "      <th></th>\n",
       "      <th>name</th>\n",
       "      <th>date</th>\n",
       "      <th>title</th>\n",
       "      <th>review</th>\n",
       "      <th>country</th>\n",
       "      <th>star</th>\n",
       "    </tr>\n",
       "  </thead>\n",
       "  <tbody>\n",
       "  </tbody>\n",
       "</table>\n",
       "</div>"
      ],
      "text/plain": [
       "Empty DataFrame\n",
       "Columns: [name, date, title, review, country, star]\n",
       "Index: []"
      ]
     },
     "execution_count": 66,
     "metadata": {},
     "output_type": "execute_result"
    }
   ],
   "source": [
    "df_no_star = df[df['star'].isna()]\n",
    "df_no_star"
   ]
  },
  {
   "cell_type": "code",
   "execution_count": 67,
   "metadata": {
    "id": "e9vGBteNqk9Z"
   },
   "outputs": [],
   "source": [
    "#Convert 2.0 out of 5 stars to 2\n",
    "df_int = []\n",
    "#df_with_star[\"stars\"] = [str(x).replace(':',' ') for x in df[\"stars\"]]\n",
    "\n",
    "for i in df[\"star\"]:\n",
    "    x = re.sub(\".0 out of 5 stars\", \"\", i)\n",
    "    df_int.append(x)\n",
    "\n",
    "df[\"rating\"] = pd.DataFrame({\"rating\": df_int})\n",
    "df[\"rating\"] = df[\"rating\"].astype(int)\n",
    "del df['star']"
   ]
  },
  {
   "cell_type": "code",
   "execution_count": 68,
   "metadata": {},
   "outputs": [],
   "source": [
    "df['name'] = df['name'].str.lower()"
   ]
  },
  {
   "cell_type": "code",
   "execution_count": 69,
   "metadata": {},
   "outputs": [
    {
     "data": {
      "text/html": [
       "<div>\n",
       "<style scoped>\n",
       "    .dataframe tbody tr th:only-of-type {\n",
       "        vertical-align: middle;\n",
       "    }\n",
       "\n",
       "    .dataframe tbody tr th {\n",
       "        vertical-align: top;\n",
       "    }\n",
       "\n",
       "    .dataframe thead th {\n",
       "        text-align: right;\n",
       "    }\n",
       "</style>\n",
       "<table border=\"1\" class=\"dataframe\">\n",
       "  <thead>\n",
       "    <tr style=\"text-align: right;\">\n",
       "      <th></th>\n",
       "      <th>name</th>\n",
       "      <th>date</th>\n",
       "      <th>title</th>\n",
       "      <th>review</th>\n",
       "      <th>country</th>\n",
       "      <th>rating</th>\n",
       "    </tr>\n",
       "  </thead>\n",
       "  <tbody>\n",
       "    <tr>\n",
       "      <th>29</th>\n",
       "      <td>n. pappas</td>\n",
       "      <td>2021-06-28</td>\n",
       "      <td>Works great with Zoom</td>\n",
       "      <td>Ok, using this for Zoom is overkill - but I'm ...</td>\n",
       "      <td>the United States</td>\n",
       "      <td>5</td>\n",
       "    </tr>\n",
       "    <tr>\n",
       "      <th>57</th>\n",
       "      <td>john gallagher</td>\n",
       "      <td>2021-09-27</td>\n",
       "      <td>Fantastic microphone and great SM7B alternative!</td>\n",
       "      <td>Bought this mic as an alternative to the SM7B ...</td>\n",
       "      <td>the United States</td>\n",
       "      <td>5</td>\n",
       "    </tr>\n",
       "    <tr>\n",
       "      <th>151</th>\n",
       "      <td>a. caito</td>\n",
       "      <td>2021-01-23</td>\n",
       "      <td>great step up</td>\n",
       "      <td>It's been a great purchase</td>\n",
       "      <td>the United States</td>\n",
       "      <td>5</td>\n",
       "    </tr>\n",
       "    <tr>\n",
       "      <th>157</th>\n",
       "      <td>austin moss</td>\n",
       "      <td>2021-02-16</td>\n",
       "      <td>great mic</td>\n",
       "      <td>wow this is one of the best usb mics i have ev...</td>\n",
       "      <td>the United States</td>\n",
       "      <td>5</td>\n",
       "    </tr>\n",
       "    <tr>\n",
       "      <th>169</th>\n",
       "      <td>wla</td>\n",
       "      <td>2021-05-04</td>\n",
       "      <td>Easy to use, great sound</td>\n",
       "      <td>Excellent mic for podcasting from home. Clean,...</td>\n",
       "      <td>the United States</td>\n",
       "      <td>5</td>\n",
       "    </tr>\n",
       "    <tr>\n",
       "      <th>187</th>\n",
       "      <td>remy</td>\n",
       "      <td>2022-01-20</td>\n",
       "      <td>Such a great mic</td>\n",
       "      <td>This is such a great mic to use for podcasters.</td>\n",
       "      <td>the United States</td>\n",
       "      <td>5</td>\n",
       "    </tr>\n",
       "    <tr>\n",
       "      <th>191</th>\n",
       "      <td>amazon customer</td>\n",
       "      <td>2021-02-14</td>\n",
       "      <td>great</td>\n",
       "      <td>this is amazing mic</td>\n",
       "      <td>the United States</td>\n",
       "      <td>5</td>\n",
       "    </tr>\n",
       "    <tr>\n",
       "      <th>200</th>\n",
       "      <td>peederj</td>\n",
       "      <td>2021-09-23</td>\n",
       "      <td>Ok not as great as the SM7B but a perfect podc...</td>\n",
       "      <td>This mic is a perfect all-in-one podcasting so...</td>\n",
       "      <td>the United States</td>\n",
       "      <td>5</td>\n",
       "    </tr>\n",
       "    <tr>\n",
       "      <th>225</th>\n",
       "      <td>justin h.</td>\n",
       "      <td>2021-07-02</td>\n",
       "      <td>excellent microphone, great alternative to the...</td>\n",
       "      <td>This mic is amazing! Whether you choose to use...</td>\n",
       "      <td>the United States</td>\n",
       "      <td>5</td>\n",
       "    </tr>\n",
       "    <tr>\n",
       "      <th>258</th>\n",
       "      <td>r. hart</td>\n",
       "      <td>2022-01-10</td>\n",
       "      <td>Not great unless extremely close to your mouth</td>\n",
       "      <td>Was looking to replace my old AudioTechnica AT...</td>\n",
       "      <td>the United Kingdom</td>\n",
       "      <td>2</td>\n",
       "    </tr>\n",
       "    <tr>\n",
       "      <th>271</th>\n",
       "      <td>vd</td>\n",
       "      <td>2021-10-13</td>\n",
       "      <td>the same great sound</td>\n",
       "      <td>Works as good as the their big brother - and m...</td>\n",
       "      <td>the United Kingdom</td>\n",
       "      <td>5</td>\n",
       "    </tr>\n",
       "    <tr>\n",
       "      <th>330</th>\n",
       "      <td>mayojita</td>\n",
       "      <td>2021-10-13</td>\n",
       "      <td>A great intermediate podcast microphone</td>\n",
       "      <td>I did few audio stories with this microphone a...</td>\n",
       "      <td>India</td>\n",
       "      <td>5</td>\n",
       "    </tr>\n",
       "    <tr>\n",
       "      <th>369</th>\n",
       "      <td>rosario sortino</td>\n",
       "      <td>2021-05-20</td>\n",
       "      <td>great mic</td>\n",
       "      <td>this is a great mic , great sound and easy set...</td>\n",
       "      <td>Canada</td>\n",
       "      <td>4</td>\n",
       "    </tr>\n",
       "  </tbody>\n",
       "</table>\n",
       "</div>"
      ],
      "text/plain": [
       "                name       date  \\\n",
       "29         n. pappas 2021-06-28   \n",
       "57    john gallagher 2021-09-27   \n",
       "151         a. caito 2021-01-23   \n",
       "157      austin moss 2021-02-16   \n",
       "169              wla 2021-05-04   \n",
       "187             remy 2022-01-20   \n",
       "191  amazon customer 2021-02-14   \n",
       "200          peederj 2021-09-23   \n",
       "225        justin h. 2021-07-02   \n",
       "258          r. hart 2022-01-10   \n",
       "271               vd 2021-10-13   \n",
       "330         mayojita 2021-10-13   \n",
       "369  rosario sortino 2021-05-20   \n",
       "\n",
       "                                                 title  \\\n",
       "29                               Works great with Zoom   \n",
       "57    Fantastic microphone and great SM7B alternative!   \n",
       "151                                      great step up   \n",
       "157                                          great mic   \n",
       "169                           Easy to use, great sound   \n",
       "187                                   Such a great mic   \n",
       "191                                              great   \n",
       "200  Ok not as great as the SM7B but a perfect podc...   \n",
       "225  excellent microphone, great alternative to the...   \n",
       "258     Not great unless extremely close to your mouth   \n",
       "271                               the same great sound   \n",
       "330            A great intermediate podcast microphone   \n",
       "369                                          great mic   \n",
       "\n",
       "                                                review             country  \\\n",
       "29   Ok, using this for Zoom is overkill - but I'm ...   the United States   \n",
       "57   Bought this mic as an alternative to the SM7B ...   the United States   \n",
       "151                         It's been a great purchase   the United States   \n",
       "157  wow this is one of the best usb mics i have ev...   the United States   \n",
       "169  Excellent mic for podcasting from home. Clean,...   the United States   \n",
       "187    This is such a great mic to use for podcasters.   the United States   \n",
       "191                                this is amazing mic   the United States   \n",
       "200  This mic is a perfect all-in-one podcasting so...   the United States   \n",
       "225  This mic is amazing! Whether you choose to use...   the United States   \n",
       "258  Was looking to replace my old AudioTechnica AT...  the United Kingdom   \n",
       "271  Works as good as the their big brother - and m...  the United Kingdom   \n",
       "330  I did few audio stories with this microphone a...               India   \n",
       "369  this is a great mic , great sound and easy set...              Canada   \n",
       "\n",
       "     rating  \n",
       "29        5  \n",
       "57        5  \n",
       "151       5  \n",
       "157       5  \n",
       "169       5  \n",
       "187       5  \n",
       "191       5  \n",
       "200       5  \n",
       "225       5  \n",
       "258       2  \n",
       "271       5  \n",
       "330       5  \n",
       "369       4  "
      ]
     },
     "execution_count": 69,
     "metadata": {},
     "output_type": "execute_result"
    }
   ],
   "source": [
    "df[df['title'].str.contains('great')]"
   ]
  },
  {
   "cell_type": "markdown",
   "metadata": {
    "id": "lEZOuPOBqk9a"
   },
   "source": [
    "## EDA"
   ]
  },
  {
   "cell_type": "code",
   "execution_count": 70,
   "metadata": {
    "id": "koWJARYHqk9a",
    "outputId": "2248676f-dd43-4cd2-c756-94a8715e5d1d"
   },
   "outputs": [
    {
     "data": {
      "application/vnd.plotly.v1+json": {
       "config": {
        "plotlyServerURL": "https://plot.ly"
       },
       "data": [
        {
         "orientation": "h",
         "type": "bar",
         "x": [
          378,
          70,
          30,
          28,
          14
         ],
         "y": [
          5,
          4,
          1,
          3,
          2
         ]
        }
       ],
       "layout": {
        "template": {
         "data": {
          "bar": [
           {
            "error_x": {
             "color": "#2a3f5f"
            },
            "error_y": {
             "color": "#2a3f5f"
            },
            "marker": {
             "line": {
              "color": "#E5ECF6",
              "width": 0.5
             },
             "pattern": {
              "fillmode": "overlay",
              "size": 10,
              "solidity": 0.2
             }
            },
            "type": "bar"
           }
          ],
          "barpolar": [
           {
            "marker": {
             "line": {
              "color": "#E5ECF6",
              "width": 0.5
             },
             "pattern": {
              "fillmode": "overlay",
              "size": 10,
              "solidity": 0.2
             }
            },
            "type": "barpolar"
           }
          ],
          "carpet": [
           {
            "aaxis": {
             "endlinecolor": "#2a3f5f",
             "gridcolor": "white",
             "linecolor": "white",
             "minorgridcolor": "white",
             "startlinecolor": "#2a3f5f"
            },
            "baxis": {
             "endlinecolor": "#2a3f5f",
             "gridcolor": "white",
             "linecolor": "white",
             "minorgridcolor": "white",
             "startlinecolor": "#2a3f5f"
            },
            "type": "carpet"
           }
          ],
          "choropleth": [
           {
            "colorbar": {
             "outlinewidth": 0,
             "ticks": ""
            },
            "type": "choropleth"
           }
          ],
          "contour": [
           {
            "colorbar": {
             "outlinewidth": 0,
             "ticks": ""
            },
            "colorscale": [
             [
              0,
              "#0d0887"
             ],
             [
              0.1111111111111111,
              "#46039f"
             ],
             [
              0.2222222222222222,
              "#7201a8"
             ],
             [
              0.3333333333333333,
              "#9c179e"
             ],
             [
              0.4444444444444444,
              "#bd3786"
             ],
             [
              0.5555555555555556,
              "#d8576b"
             ],
             [
              0.6666666666666666,
              "#ed7953"
             ],
             [
              0.7777777777777778,
              "#fb9f3a"
             ],
             [
              0.8888888888888888,
              "#fdca26"
             ],
             [
              1,
              "#f0f921"
             ]
            ],
            "type": "contour"
           }
          ],
          "contourcarpet": [
           {
            "colorbar": {
             "outlinewidth": 0,
             "ticks": ""
            },
            "type": "contourcarpet"
           }
          ],
          "heatmap": [
           {
            "colorbar": {
             "outlinewidth": 0,
             "ticks": ""
            },
            "colorscale": [
             [
              0,
              "#0d0887"
             ],
             [
              0.1111111111111111,
              "#46039f"
             ],
             [
              0.2222222222222222,
              "#7201a8"
             ],
             [
              0.3333333333333333,
              "#9c179e"
             ],
             [
              0.4444444444444444,
              "#bd3786"
             ],
             [
              0.5555555555555556,
              "#d8576b"
             ],
             [
              0.6666666666666666,
              "#ed7953"
             ],
             [
              0.7777777777777778,
              "#fb9f3a"
             ],
             [
              0.8888888888888888,
              "#fdca26"
             ],
             [
              1,
              "#f0f921"
             ]
            ],
            "type": "heatmap"
           }
          ],
          "heatmapgl": [
           {
            "colorbar": {
             "outlinewidth": 0,
             "ticks": ""
            },
            "colorscale": [
             [
              0,
              "#0d0887"
             ],
             [
              0.1111111111111111,
              "#46039f"
             ],
             [
              0.2222222222222222,
              "#7201a8"
             ],
             [
              0.3333333333333333,
              "#9c179e"
             ],
             [
              0.4444444444444444,
              "#bd3786"
             ],
             [
              0.5555555555555556,
              "#d8576b"
             ],
             [
              0.6666666666666666,
              "#ed7953"
             ],
             [
              0.7777777777777778,
              "#fb9f3a"
             ],
             [
              0.8888888888888888,
              "#fdca26"
             ],
             [
              1,
              "#f0f921"
             ]
            ],
            "type": "heatmapgl"
           }
          ],
          "histogram": [
           {
            "marker": {
             "pattern": {
              "fillmode": "overlay",
              "size": 10,
              "solidity": 0.2
             }
            },
            "type": "histogram"
           }
          ],
          "histogram2d": [
           {
            "colorbar": {
             "outlinewidth": 0,
             "ticks": ""
            },
            "colorscale": [
             [
              0,
              "#0d0887"
             ],
             [
              0.1111111111111111,
              "#46039f"
             ],
             [
              0.2222222222222222,
              "#7201a8"
             ],
             [
              0.3333333333333333,
              "#9c179e"
             ],
             [
              0.4444444444444444,
              "#bd3786"
             ],
             [
              0.5555555555555556,
              "#d8576b"
             ],
             [
              0.6666666666666666,
              "#ed7953"
             ],
             [
              0.7777777777777778,
              "#fb9f3a"
             ],
             [
              0.8888888888888888,
              "#fdca26"
             ],
             [
              1,
              "#f0f921"
             ]
            ],
            "type": "histogram2d"
           }
          ],
          "histogram2dcontour": [
           {
            "colorbar": {
             "outlinewidth": 0,
             "ticks": ""
            },
            "colorscale": [
             [
              0,
              "#0d0887"
             ],
             [
              0.1111111111111111,
              "#46039f"
             ],
             [
              0.2222222222222222,
              "#7201a8"
             ],
             [
              0.3333333333333333,
              "#9c179e"
             ],
             [
              0.4444444444444444,
              "#bd3786"
             ],
             [
              0.5555555555555556,
              "#d8576b"
             ],
             [
              0.6666666666666666,
              "#ed7953"
             ],
             [
              0.7777777777777778,
              "#fb9f3a"
             ],
             [
              0.8888888888888888,
              "#fdca26"
             ],
             [
              1,
              "#f0f921"
             ]
            ],
            "type": "histogram2dcontour"
           }
          ],
          "mesh3d": [
           {
            "colorbar": {
             "outlinewidth": 0,
             "ticks": ""
            },
            "type": "mesh3d"
           }
          ],
          "parcoords": [
           {
            "line": {
             "colorbar": {
              "outlinewidth": 0,
              "ticks": ""
             }
            },
            "type": "parcoords"
           }
          ],
          "pie": [
           {
            "automargin": true,
            "type": "pie"
           }
          ],
          "scatter": [
           {
            "marker": {
             "colorbar": {
              "outlinewidth": 0,
              "ticks": ""
             }
            },
            "type": "scatter"
           }
          ],
          "scatter3d": [
           {
            "line": {
             "colorbar": {
              "outlinewidth": 0,
              "ticks": ""
             }
            },
            "marker": {
             "colorbar": {
              "outlinewidth": 0,
              "ticks": ""
             }
            },
            "type": "scatter3d"
           }
          ],
          "scattercarpet": [
           {
            "marker": {
             "colorbar": {
              "outlinewidth": 0,
              "ticks": ""
             }
            },
            "type": "scattercarpet"
           }
          ],
          "scattergeo": [
           {
            "marker": {
             "colorbar": {
              "outlinewidth": 0,
              "ticks": ""
             }
            },
            "type": "scattergeo"
           }
          ],
          "scattergl": [
           {
            "marker": {
             "colorbar": {
              "outlinewidth": 0,
              "ticks": ""
             }
            },
            "type": "scattergl"
           }
          ],
          "scattermapbox": [
           {
            "marker": {
             "colorbar": {
              "outlinewidth": 0,
              "ticks": ""
             }
            },
            "type": "scattermapbox"
           }
          ],
          "scatterpolar": [
           {
            "marker": {
             "colorbar": {
              "outlinewidth": 0,
              "ticks": ""
             }
            },
            "type": "scatterpolar"
           }
          ],
          "scatterpolargl": [
           {
            "marker": {
             "colorbar": {
              "outlinewidth": 0,
              "ticks": ""
             }
            },
            "type": "scatterpolargl"
           }
          ],
          "scatterternary": [
           {
            "marker": {
             "colorbar": {
              "outlinewidth": 0,
              "ticks": ""
             }
            },
            "type": "scatterternary"
           }
          ],
          "surface": [
           {
            "colorbar": {
             "outlinewidth": 0,
             "ticks": ""
            },
            "colorscale": [
             [
              0,
              "#0d0887"
             ],
             [
              0.1111111111111111,
              "#46039f"
             ],
             [
              0.2222222222222222,
              "#7201a8"
             ],
             [
              0.3333333333333333,
              "#9c179e"
             ],
             [
              0.4444444444444444,
              "#bd3786"
             ],
             [
              0.5555555555555556,
              "#d8576b"
             ],
             [
              0.6666666666666666,
              "#ed7953"
             ],
             [
              0.7777777777777778,
              "#fb9f3a"
             ],
             [
              0.8888888888888888,
              "#fdca26"
             ],
             [
              1,
              "#f0f921"
             ]
            ],
            "type": "surface"
           }
          ],
          "table": [
           {
            "cells": {
             "fill": {
              "color": "#EBF0F8"
             },
             "line": {
              "color": "white"
             }
            },
            "header": {
             "fill": {
              "color": "#C8D4E3"
             },
             "line": {
              "color": "white"
             }
            },
            "type": "table"
           }
          ]
         },
         "layout": {
          "annotationdefaults": {
           "arrowcolor": "#2a3f5f",
           "arrowhead": 0,
           "arrowwidth": 1
          },
          "autotypenumbers": "strict",
          "coloraxis": {
           "colorbar": {
            "outlinewidth": 0,
            "ticks": ""
           }
          },
          "colorscale": {
           "diverging": [
            [
             0,
             "#8e0152"
            ],
            [
             0.1,
             "#c51b7d"
            ],
            [
             0.2,
             "#de77ae"
            ],
            [
             0.3,
             "#f1b6da"
            ],
            [
             0.4,
             "#fde0ef"
            ],
            [
             0.5,
             "#f7f7f7"
            ],
            [
             0.6,
             "#e6f5d0"
            ],
            [
             0.7,
             "#b8e186"
            ],
            [
             0.8,
             "#7fbc41"
            ],
            [
             0.9,
             "#4d9221"
            ],
            [
             1,
             "#276419"
            ]
           ],
           "sequential": [
            [
             0,
             "#0d0887"
            ],
            [
             0.1111111111111111,
             "#46039f"
            ],
            [
             0.2222222222222222,
             "#7201a8"
            ],
            [
             0.3333333333333333,
             "#9c179e"
            ],
            [
             0.4444444444444444,
             "#bd3786"
            ],
            [
             0.5555555555555556,
             "#d8576b"
            ],
            [
             0.6666666666666666,
             "#ed7953"
            ],
            [
             0.7777777777777778,
             "#fb9f3a"
            ],
            [
             0.8888888888888888,
             "#fdca26"
            ],
            [
             1,
             "#f0f921"
            ]
           ],
           "sequentialminus": [
            [
             0,
             "#0d0887"
            ],
            [
             0.1111111111111111,
             "#46039f"
            ],
            [
             0.2222222222222222,
             "#7201a8"
            ],
            [
             0.3333333333333333,
             "#9c179e"
            ],
            [
             0.4444444444444444,
             "#bd3786"
            ],
            [
             0.5555555555555556,
             "#d8576b"
            ],
            [
             0.6666666666666666,
             "#ed7953"
            ],
            [
             0.7777777777777778,
             "#fb9f3a"
            ],
            [
             0.8888888888888888,
             "#fdca26"
            ],
            [
             1,
             "#f0f921"
            ]
           ]
          },
          "colorway": [
           "#636efa",
           "#EF553B",
           "#00cc96",
           "#ab63fa",
           "#FFA15A",
           "#19d3f3",
           "#FF6692",
           "#B6E880",
           "#FF97FF",
           "#FECB52"
          ],
          "font": {
           "color": "#2a3f5f"
          },
          "geo": {
           "bgcolor": "white",
           "lakecolor": "white",
           "landcolor": "#E5ECF6",
           "showlakes": true,
           "showland": true,
           "subunitcolor": "white"
          },
          "hoverlabel": {
           "align": "left"
          },
          "hovermode": "closest",
          "mapbox": {
           "style": "light"
          },
          "paper_bgcolor": "white",
          "plot_bgcolor": "#E5ECF6",
          "polar": {
           "angularaxis": {
            "gridcolor": "white",
            "linecolor": "white",
            "ticks": ""
           },
           "bgcolor": "#E5ECF6",
           "radialaxis": {
            "gridcolor": "white",
            "linecolor": "white",
            "ticks": ""
           }
          },
          "scene": {
           "xaxis": {
            "backgroundcolor": "#E5ECF6",
            "gridcolor": "white",
            "gridwidth": 2,
            "linecolor": "white",
            "showbackground": true,
            "ticks": "",
            "zerolinecolor": "white"
           },
           "yaxis": {
            "backgroundcolor": "#E5ECF6",
            "gridcolor": "white",
            "gridwidth": 2,
            "linecolor": "white",
            "showbackground": true,
            "ticks": "",
            "zerolinecolor": "white"
           },
           "zaxis": {
            "backgroundcolor": "#E5ECF6",
            "gridcolor": "white",
            "gridwidth": 2,
            "linecolor": "white",
            "showbackground": true,
            "ticks": "",
            "zerolinecolor": "white"
           }
          },
          "shapedefaults": {
           "line": {
            "color": "#2a3f5f"
           }
          },
          "ternary": {
           "aaxis": {
            "gridcolor": "white",
            "linecolor": "white",
            "ticks": ""
           },
           "baxis": {
            "gridcolor": "white",
            "linecolor": "white",
            "ticks": ""
           },
           "bgcolor": "#E5ECF6",
           "caxis": {
            "gridcolor": "white",
            "linecolor": "white",
            "ticks": ""
           }
          },
          "title": {
           "x": 0.05
          },
          "xaxis": {
           "automargin": true,
           "gridcolor": "white",
           "linecolor": "white",
           "ticks": "",
           "title": {
            "standoff": 15
           },
           "zerolinecolor": "white",
           "zerolinewidth": 2
          },
          "yaxis": {
           "automargin": true,
           "gridcolor": "white",
           "linecolor": "white",
           "ticks": "",
           "title": {
            "standoff": 15
           },
           "zerolinecolor": "white",
           "zerolinewidth": 2
          }
         }
        }
       }
      }
     },
     "metadata": {},
     "output_type": "display_data"
    }
   ],
   "source": [
    "temp = df['rating'].value_counts()\n",
    "fig = go.Figure(go.Bar(\n",
    "            x=temp,\n",
    "            y=temp.index,\n",
    "            orientation='h'))\n",
    "\n",
    "fig.show()"
   ]
  },
  {
   "cell_type": "code",
   "execution_count": 71,
   "metadata": {
    "id": "86MObffMqk9W",
    "outputId": "d5a3134e-c73b-417e-e2bc-a868934537c5"
   },
   "outputs": [
    {
     "data": {
      "application/vnd.plotly.v1+json": {
       "config": {
        "plotlyServerURL": "https://plot.ly"
       },
       "data": [
        {
         "orientation": "h",
         "type": "bar",
         "x": [
          239,
          65,
          54,
          39,
          36,
          25,
          22,
          17,
          10,
          8,
          5
         ],
         "y": [
          "the United States",
          "Canada",
          "the United Kingdom",
          "Germany",
          "Mexico",
          "India",
          "France",
          "Spain",
          "Australia",
          "Italy",
          "Brazil"
         ]
        }
       ],
       "layout": {
        "template": {
         "data": {
          "bar": [
           {
            "error_x": {
             "color": "#2a3f5f"
            },
            "error_y": {
             "color": "#2a3f5f"
            },
            "marker": {
             "line": {
              "color": "#E5ECF6",
              "width": 0.5
             },
             "pattern": {
              "fillmode": "overlay",
              "size": 10,
              "solidity": 0.2
             }
            },
            "type": "bar"
           }
          ],
          "barpolar": [
           {
            "marker": {
             "line": {
              "color": "#E5ECF6",
              "width": 0.5
             },
             "pattern": {
              "fillmode": "overlay",
              "size": 10,
              "solidity": 0.2
             }
            },
            "type": "barpolar"
           }
          ],
          "carpet": [
           {
            "aaxis": {
             "endlinecolor": "#2a3f5f",
             "gridcolor": "white",
             "linecolor": "white",
             "minorgridcolor": "white",
             "startlinecolor": "#2a3f5f"
            },
            "baxis": {
             "endlinecolor": "#2a3f5f",
             "gridcolor": "white",
             "linecolor": "white",
             "minorgridcolor": "white",
             "startlinecolor": "#2a3f5f"
            },
            "type": "carpet"
           }
          ],
          "choropleth": [
           {
            "colorbar": {
             "outlinewidth": 0,
             "ticks": ""
            },
            "type": "choropleth"
           }
          ],
          "contour": [
           {
            "colorbar": {
             "outlinewidth": 0,
             "ticks": ""
            },
            "colorscale": [
             [
              0,
              "#0d0887"
             ],
             [
              0.1111111111111111,
              "#46039f"
             ],
             [
              0.2222222222222222,
              "#7201a8"
             ],
             [
              0.3333333333333333,
              "#9c179e"
             ],
             [
              0.4444444444444444,
              "#bd3786"
             ],
             [
              0.5555555555555556,
              "#d8576b"
             ],
             [
              0.6666666666666666,
              "#ed7953"
             ],
             [
              0.7777777777777778,
              "#fb9f3a"
             ],
             [
              0.8888888888888888,
              "#fdca26"
             ],
             [
              1,
              "#f0f921"
             ]
            ],
            "type": "contour"
           }
          ],
          "contourcarpet": [
           {
            "colorbar": {
             "outlinewidth": 0,
             "ticks": ""
            },
            "type": "contourcarpet"
           }
          ],
          "heatmap": [
           {
            "colorbar": {
             "outlinewidth": 0,
             "ticks": ""
            },
            "colorscale": [
             [
              0,
              "#0d0887"
             ],
             [
              0.1111111111111111,
              "#46039f"
             ],
             [
              0.2222222222222222,
              "#7201a8"
             ],
             [
              0.3333333333333333,
              "#9c179e"
             ],
             [
              0.4444444444444444,
              "#bd3786"
             ],
             [
              0.5555555555555556,
              "#d8576b"
             ],
             [
              0.6666666666666666,
              "#ed7953"
             ],
             [
              0.7777777777777778,
              "#fb9f3a"
             ],
             [
              0.8888888888888888,
              "#fdca26"
             ],
             [
              1,
              "#f0f921"
             ]
            ],
            "type": "heatmap"
           }
          ],
          "heatmapgl": [
           {
            "colorbar": {
             "outlinewidth": 0,
             "ticks": ""
            },
            "colorscale": [
             [
              0,
              "#0d0887"
             ],
             [
              0.1111111111111111,
              "#46039f"
             ],
             [
              0.2222222222222222,
              "#7201a8"
             ],
             [
              0.3333333333333333,
              "#9c179e"
             ],
             [
              0.4444444444444444,
              "#bd3786"
             ],
             [
              0.5555555555555556,
              "#d8576b"
             ],
             [
              0.6666666666666666,
              "#ed7953"
             ],
             [
              0.7777777777777778,
              "#fb9f3a"
             ],
             [
              0.8888888888888888,
              "#fdca26"
             ],
             [
              1,
              "#f0f921"
             ]
            ],
            "type": "heatmapgl"
           }
          ],
          "histogram": [
           {
            "marker": {
             "pattern": {
              "fillmode": "overlay",
              "size": 10,
              "solidity": 0.2
             }
            },
            "type": "histogram"
           }
          ],
          "histogram2d": [
           {
            "colorbar": {
             "outlinewidth": 0,
             "ticks": ""
            },
            "colorscale": [
             [
              0,
              "#0d0887"
             ],
             [
              0.1111111111111111,
              "#46039f"
             ],
             [
              0.2222222222222222,
              "#7201a8"
             ],
             [
              0.3333333333333333,
              "#9c179e"
             ],
             [
              0.4444444444444444,
              "#bd3786"
             ],
             [
              0.5555555555555556,
              "#d8576b"
             ],
             [
              0.6666666666666666,
              "#ed7953"
             ],
             [
              0.7777777777777778,
              "#fb9f3a"
             ],
             [
              0.8888888888888888,
              "#fdca26"
             ],
             [
              1,
              "#f0f921"
             ]
            ],
            "type": "histogram2d"
           }
          ],
          "histogram2dcontour": [
           {
            "colorbar": {
             "outlinewidth": 0,
             "ticks": ""
            },
            "colorscale": [
             [
              0,
              "#0d0887"
             ],
             [
              0.1111111111111111,
              "#46039f"
             ],
             [
              0.2222222222222222,
              "#7201a8"
             ],
             [
              0.3333333333333333,
              "#9c179e"
             ],
             [
              0.4444444444444444,
              "#bd3786"
             ],
             [
              0.5555555555555556,
              "#d8576b"
             ],
             [
              0.6666666666666666,
              "#ed7953"
             ],
             [
              0.7777777777777778,
              "#fb9f3a"
             ],
             [
              0.8888888888888888,
              "#fdca26"
             ],
             [
              1,
              "#f0f921"
             ]
            ],
            "type": "histogram2dcontour"
           }
          ],
          "mesh3d": [
           {
            "colorbar": {
             "outlinewidth": 0,
             "ticks": ""
            },
            "type": "mesh3d"
           }
          ],
          "parcoords": [
           {
            "line": {
             "colorbar": {
              "outlinewidth": 0,
              "ticks": ""
             }
            },
            "type": "parcoords"
           }
          ],
          "pie": [
           {
            "automargin": true,
            "type": "pie"
           }
          ],
          "scatter": [
           {
            "marker": {
             "colorbar": {
              "outlinewidth": 0,
              "ticks": ""
             }
            },
            "type": "scatter"
           }
          ],
          "scatter3d": [
           {
            "line": {
             "colorbar": {
              "outlinewidth": 0,
              "ticks": ""
             }
            },
            "marker": {
             "colorbar": {
              "outlinewidth": 0,
              "ticks": ""
             }
            },
            "type": "scatter3d"
           }
          ],
          "scattercarpet": [
           {
            "marker": {
             "colorbar": {
              "outlinewidth": 0,
              "ticks": ""
             }
            },
            "type": "scattercarpet"
           }
          ],
          "scattergeo": [
           {
            "marker": {
             "colorbar": {
              "outlinewidth": 0,
              "ticks": ""
             }
            },
            "type": "scattergeo"
           }
          ],
          "scattergl": [
           {
            "marker": {
             "colorbar": {
              "outlinewidth": 0,
              "ticks": ""
             }
            },
            "type": "scattergl"
           }
          ],
          "scattermapbox": [
           {
            "marker": {
             "colorbar": {
              "outlinewidth": 0,
              "ticks": ""
             }
            },
            "type": "scattermapbox"
           }
          ],
          "scatterpolar": [
           {
            "marker": {
             "colorbar": {
              "outlinewidth": 0,
              "ticks": ""
             }
            },
            "type": "scatterpolar"
           }
          ],
          "scatterpolargl": [
           {
            "marker": {
             "colorbar": {
              "outlinewidth": 0,
              "ticks": ""
             }
            },
            "type": "scatterpolargl"
           }
          ],
          "scatterternary": [
           {
            "marker": {
             "colorbar": {
              "outlinewidth": 0,
              "ticks": ""
             }
            },
            "type": "scatterternary"
           }
          ],
          "surface": [
           {
            "colorbar": {
             "outlinewidth": 0,
             "ticks": ""
            },
            "colorscale": [
             [
              0,
              "#0d0887"
             ],
             [
              0.1111111111111111,
              "#46039f"
             ],
             [
              0.2222222222222222,
              "#7201a8"
             ],
             [
              0.3333333333333333,
              "#9c179e"
             ],
             [
              0.4444444444444444,
              "#bd3786"
             ],
             [
              0.5555555555555556,
              "#d8576b"
             ],
             [
              0.6666666666666666,
              "#ed7953"
             ],
             [
              0.7777777777777778,
              "#fb9f3a"
             ],
             [
              0.8888888888888888,
              "#fdca26"
             ],
             [
              1,
              "#f0f921"
             ]
            ],
            "type": "surface"
           }
          ],
          "table": [
           {
            "cells": {
             "fill": {
              "color": "#EBF0F8"
             },
             "line": {
              "color": "white"
             }
            },
            "header": {
             "fill": {
              "color": "#C8D4E3"
             },
             "line": {
              "color": "white"
             }
            },
            "type": "table"
           }
          ]
         },
         "layout": {
          "annotationdefaults": {
           "arrowcolor": "#2a3f5f",
           "arrowhead": 0,
           "arrowwidth": 1
          },
          "autotypenumbers": "strict",
          "coloraxis": {
           "colorbar": {
            "outlinewidth": 0,
            "ticks": ""
           }
          },
          "colorscale": {
           "diverging": [
            [
             0,
             "#8e0152"
            ],
            [
             0.1,
             "#c51b7d"
            ],
            [
             0.2,
             "#de77ae"
            ],
            [
             0.3,
             "#f1b6da"
            ],
            [
             0.4,
             "#fde0ef"
            ],
            [
             0.5,
             "#f7f7f7"
            ],
            [
             0.6,
             "#e6f5d0"
            ],
            [
             0.7,
             "#b8e186"
            ],
            [
             0.8,
             "#7fbc41"
            ],
            [
             0.9,
             "#4d9221"
            ],
            [
             1,
             "#276419"
            ]
           ],
           "sequential": [
            [
             0,
             "#0d0887"
            ],
            [
             0.1111111111111111,
             "#46039f"
            ],
            [
             0.2222222222222222,
             "#7201a8"
            ],
            [
             0.3333333333333333,
             "#9c179e"
            ],
            [
             0.4444444444444444,
             "#bd3786"
            ],
            [
             0.5555555555555556,
             "#d8576b"
            ],
            [
             0.6666666666666666,
             "#ed7953"
            ],
            [
             0.7777777777777778,
             "#fb9f3a"
            ],
            [
             0.8888888888888888,
             "#fdca26"
            ],
            [
             1,
             "#f0f921"
            ]
           ],
           "sequentialminus": [
            [
             0,
             "#0d0887"
            ],
            [
             0.1111111111111111,
             "#46039f"
            ],
            [
             0.2222222222222222,
             "#7201a8"
            ],
            [
             0.3333333333333333,
             "#9c179e"
            ],
            [
             0.4444444444444444,
             "#bd3786"
            ],
            [
             0.5555555555555556,
             "#d8576b"
            ],
            [
             0.6666666666666666,
             "#ed7953"
            ],
            [
             0.7777777777777778,
             "#fb9f3a"
            ],
            [
             0.8888888888888888,
             "#fdca26"
            ],
            [
             1,
             "#f0f921"
            ]
           ]
          },
          "colorway": [
           "#636efa",
           "#EF553B",
           "#00cc96",
           "#ab63fa",
           "#FFA15A",
           "#19d3f3",
           "#FF6692",
           "#B6E880",
           "#FF97FF",
           "#FECB52"
          ],
          "font": {
           "color": "#2a3f5f"
          },
          "geo": {
           "bgcolor": "white",
           "lakecolor": "white",
           "landcolor": "#E5ECF6",
           "showlakes": true,
           "showland": true,
           "subunitcolor": "white"
          },
          "hoverlabel": {
           "align": "left"
          },
          "hovermode": "closest",
          "mapbox": {
           "style": "light"
          },
          "paper_bgcolor": "white",
          "plot_bgcolor": "#E5ECF6",
          "polar": {
           "angularaxis": {
            "gridcolor": "white",
            "linecolor": "white",
            "ticks": ""
           },
           "bgcolor": "#E5ECF6",
           "radialaxis": {
            "gridcolor": "white",
            "linecolor": "white",
            "ticks": ""
           }
          },
          "scene": {
           "xaxis": {
            "backgroundcolor": "#E5ECF6",
            "gridcolor": "white",
            "gridwidth": 2,
            "linecolor": "white",
            "showbackground": true,
            "ticks": "",
            "zerolinecolor": "white"
           },
           "yaxis": {
            "backgroundcolor": "#E5ECF6",
            "gridcolor": "white",
            "gridwidth": 2,
            "linecolor": "white",
            "showbackground": true,
            "ticks": "",
            "zerolinecolor": "white"
           },
           "zaxis": {
            "backgroundcolor": "#E5ECF6",
            "gridcolor": "white",
            "gridwidth": 2,
            "linecolor": "white",
            "showbackground": true,
            "ticks": "",
            "zerolinecolor": "white"
           }
          },
          "shapedefaults": {
           "line": {
            "color": "#2a3f5f"
           }
          },
          "ternary": {
           "aaxis": {
            "gridcolor": "white",
            "linecolor": "white",
            "ticks": ""
           },
           "baxis": {
            "gridcolor": "white",
            "linecolor": "white",
            "ticks": ""
           },
           "bgcolor": "#E5ECF6",
           "caxis": {
            "gridcolor": "white",
            "linecolor": "white",
            "ticks": ""
           }
          },
          "title": {
           "x": 0.05
          },
          "xaxis": {
           "automargin": true,
           "gridcolor": "white",
           "linecolor": "white",
           "ticks": "",
           "title": {
            "standoff": 15
           },
           "zerolinecolor": "white",
           "zerolinewidth": 2
          },
          "yaxis": {
           "automargin": true,
           "gridcolor": "white",
           "linecolor": "white",
           "ticks": "",
           "title": {
            "standoff": 15
           },
           "zerolinecolor": "white",
           "zerolinewidth": 2
          }
         }
        }
       }
      }
     },
     "metadata": {},
     "output_type": "display_data"
    }
   ],
   "source": [
    "df_country = df['country'].value_counts()\n",
    "fig = go.Figure(go.Bar(\n",
    "            x=df_country,\n",
    "            y=df_country.index,\n",
    "            orientation='h'))\n",
    "\n",
    "fig.show()"
   ]
  },
  {
   "cell_type": "code",
   "execution_count": 72,
   "metadata": {
    "id": "CiHyduZsqk9a",
    "outputId": "147d2cfa-723e-4ab1-b003-a50122957401"
   },
   "outputs": [
    {
     "data": {
      "text/plain": [
       "4.446153846153846"
      ]
     },
     "execution_count": 72,
     "metadata": {},
     "output_type": "execute_result"
    }
   ],
   "source": [
    "mean_rating = df['rating'].mean()\n",
    "mean_rating"
   ]
  },
  {
   "cell_type": "code",
   "execution_count": 73,
   "metadata": {
    "id": "B2IXJFSLqk9b",
    "outputId": "6d4fe2a8-9a1e-44a5-d68d-45627bb407e6"
   },
   "outputs": [
    {
     "data": {
      "text/html": [
       "<div>\n",
       "<style scoped>\n",
       "    .dataframe tbody tr th:only-of-type {\n",
       "        vertical-align: middle;\n",
       "    }\n",
       "\n",
       "    .dataframe tbody tr th {\n",
       "        vertical-align: top;\n",
       "    }\n",
       "\n",
       "    .dataframe thead th {\n",
       "        text-align: right;\n",
       "    }\n",
       "</style>\n",
       "<table border=\"1\" class=\"dataframe\">\n",
       "  <thead>\n",
       "    <tr style=\"text-align: right;\">\n",
       "      <th></th>\n",
       "      <th>rating</th>\n",
       "    </tr>\n",
       "    <tr>\n",
       "      <th>date</th>\n",
       "      <th></th>\n",
       "    </tr>\n",
       "  </thead>\n",
       "  <tbody>\n",
       "    <tr>\n",
       "      <th>2020-10-26</th>\n",
       "      <td>5.000000</td>\n",
       "    </tr>\n",
       "    <tr>\n",
       "      <th>2020-10-27</th>\n",
       "      <td>5.000000</td>\n",
       "    </tr>\n",
       "    <tr>\n",
       "      <th>2020-10-29</th>\n",
       "      <td>5.000000</td>\n",
       "    </tr>\n",
       "    <tr>\n",
       "      <th>2020-11-01</th>\n",
       "      <td>4.333333</td>\n",
       "    </tr>\n",
       "    <tr>\n",
       "      <th>2020-11-02</th>\n",
       "      <td>5.000000</td>\n",
       "    </tr>\n",
       "    <tr>\n",
       "      <th>...</th>\n",
       "      <td>...</td>\n",
       "    </tr>\n",
       "    <tr>\n",
       "      <th>2022-01-24</th>\n",
       "      <td>5.000000</td>\n",
       "    </tr>\n",
       "    <tr>\n",
       "      <th>2022-01-25</th>\n",
       "      <td>5.000000</td>\n",
       "    </tr>\n",
       "    <tr>\n",
       "      <th>2022-01-26</th>\n",
       "      <td>3.000000</td>\n",
       "    </tr>\n",
       "    <tr>\n",
       "      <th>2022-01-27</th>\n",
       "      <td>3.333333</td>\n",
       "    </tr>\n",
       "    <tr>\n",
       "      <th>2022-01-28</th>\n",
       "      <td>5.000000</td>\n",
       "    </tr>\n",
       "  </tbody>\n",
       "</table>\n",
       "<p>310 rows × 1 columns</p>\n",
       "</div>"
      ],
      "text/plain": [
       "              rating\n",
       "date                \n",
       "2020-10-26  5.000000\n",
       "2020-10-27  5.000000\n",
       "2020-10-29  5.000000\n",
       "2020-11-01  4.333333\n",
       "2020-11-02  5.000000\n",
       "...              ...\n",
       "2022-01-24  5.000000\n",
       "2022-01-25  5.000000\n",
       "2022-01-26  3.000000\n",
       "2022-01-27  3.333333\n",
       "2022-01-28  5.000000\n",
       "\n",
       "[310 rows x 1 columns]"
      ]
     },
     "execution_count": 73,
     "metadata": {},
     "output_type": "execute_result"
    }
   ],
   "source": [
    "\"\"\"fig = px.line(df, x=temp.index, y=temp.rating, title='Life expectancy in Canada')\n",
    "fig.show()\"\"\"\n",
    "import plotly.express as px\n",
    "temp = df.groupby([df['date'].dt.date]).mean()\n",
    "temp"
   ]
  },
  {
   "cell_type": "code",
   "execution_count": 74,
   "metadata": {
    "id": "74fnhvPzqk9c",
    "outputId": "36c96123-bbc9-438d-9aff-ecfccf30725d"
   },
   "outputs": [
    {
     "data": {
      "text/plain": [
       "<AxesSubplot:xlabel='date'>"
      ]
     },
     "execution_count": 74,
     "metadata": {},
     "output_type": "execute_result"
    },
    {
     "data": {
      "image/png": "[encoded data removed]",
      "text/plain": [
       "<Figure size 432x288 with 1 Axes>"
      ]
     },
     "metadata": {
      "needs_background": "light"
     },
     "output_type": "display_data"
    }
   ],
   "source": [
    "#Average rating each month\n",
    "temp = df.groupby(df['date'].dt.strftime('%B'))['rating'].mean().sort_values()\n",
    "order_temp = temp.reindex([\"January\", \"February\", \"March\", \"April\", \"May\", \"June\", \"July\", \"August\", \"September\", \"November\", \"December\"])\n",
    "order_temp.plot(marker=\"v\", linestyle=\"-\", color = \"b\")"
   ]
  },
  {
   "cell_type": "code",
   "execution_count": 75,
   "metadata": {
    "id": "EncJn9l6qk9c",
    "outputId": "fe1c535f-25b3-4c6c-aa3a-afca3d890b56"
   },
   "outputs": [
    {
     "data": {
      "text/plain": [
       "<AxesSubplot:xlabel='date'>"
      ]
     },
     "execution_count": 75,
     "metadata": {},
     "output_type": "execute_result"
    },
    {
     "data": {
      "image/png": "[encoded data removed]",
      "text/plain": [
       "<Figure size 432x288 with 1 Axes>"
      ]
     },
     "metadata": {
      "needs_background": "light"
     },
     "output_type": "display_data"
    }
   ],
   "source": [
    "#Quantity of reviews in each month.\n",
    "temp = df.groupby(df['date'].dt.strftime('%B'))['rating'].count().sort_values()\n",
    "order_temp = temp.reindex([\"January\", \"February\", \"March\", \"April\", \"May\", \"June\", \"July\", \"August\", \"September\", \"November\", \"December\"])\n",
    "order_temp.plot()"
   ]
  },
  {
   "cell_type": "code",
   "execution_count": 78,
   "metadata": {
    "id": "LXua9y3pqk9d",
    "outputId": "a8ffb5fb-795b-4073-d1fc-2b95ceb2c09b"
   },
   "outputs": [
    {
     "data": {
      "image/png": "[encoded data removed]",
      "text/plain": [
       "<Figure size 1008x504 with 1 Axes>"
      ]
     },
     "metadata": {
      "needs_background": "light"
     },
     "output_type": "display_data"
    }
   ],
   "source": [
    "#Many words are useless so create a stopword list\n",
    "stopwords = set(STOPWORDS)\n",
    "stopwords.update([\"Mic\", \"Microphone\", \"using\",\"sound\",\"use\"])\n",
    "\n",
    "\n",
    "def cleaned_visualise_word_map(x):\n",
    "    words=\" \"\n",
    "    for msg in x:\n",
    "        msg = str(msg).lower()\n",
    "        words = words+msg+\" \"\n",
    "    wordcloud = WordCloud(stopwords = stopwords, width=3000, height=2500, background_color='white').generate(words)\n",
    "    fig_size = plt.rcParams[\"figure.figsize\"]\n",
    "    fig_size[0] = 14\n",
    "    fig_size[1] = 7\n",
    "    #Display image appear more smoothly\n",
    "    plt.imshow(wordcloud, interpolation='bilinear')\n",
    "    plt.axis(\"off\")\n",
    "    plt.show(wordcloud)\n",
    "\n",
    "cleaned_visualise_word_map(df[\"review\"])"
   ]
  },
  {
   "cell_type": "markdown",
   "metadata": {},
   "source": [
    "## Sentiment Analysis 1"
   ]
  },
  {
   "cell_type": "code",
   "execution_count": 79,
   "metadata": {
    "id": "2VZOGD-Bqk9e"
   },
   "outputs": [],
   "source": [
    "df = df[df['rating'] != 3]\n",
    "df['sentiment'] = df['rating'].apply(lambda rating : +1 if rating > 3 else -1)"
   ]
  },
  {
   "cell_type": "code",
   "execution_count": 83,
   "metadata": {
    "id": "E0hMyVTHqk9e"
   },
   "outputs": [],
   "source": [
    "positive = df[df['sentiment'] == 1]\n",
    "negative = df[df['sentiment'] == -1]"
   ]
  },
  {
   "cell_type": "code",
   "execution_count": 93,
   "metadata": {
    "id": "g3_UK_MNqk9f",
    "outputId": "d128289a-f2ab-4939-c517-0a769544b512"
   },
   "outputs": [
    {
     "data": {
      "application/vnd.plotly.v1+json": {
       "config": {
        "plotlyServerURL": "https://plot.ly"
       },
       "data": [
        {
         "alignmentgroup": "True",
         "bingroup": "x",
         "hovertemplate": "sentimentt=%{x}<br>count=%{y}<extra></extra>",
         "legendgroup": "",
         "marker": {
          "color": "deepskyblue",
          "line": {
           "color": "rgb(8,48,107)",
           "width": 1.5
          },
          "pattern": {
           "shape": ""
          }
         },
         "name": "",
         "offsetgroup": "",
         "orientation": "v",
         "showlegend": false,
         "type": "histogram",
         "x": [
          "negative",
          "positive",
          "positive",
          "negative",
          "positive",
          "positive",
          "positive",
          "positive",
          "positive",
          "positive",
          "positive",
          "positive",
          "positive",
          "positive",
          "positive",
          "positive",
          "positive",
          "positive",
          "positive",
          "positive",
          "positive",
          "positive",
          "positive",
          "positive",
          "positive",
          "negative",
          "negative",
          "positive",
          "positive",
          "positive",
          "negative",
          "positive",
          "negative",
          "positive",
          "positive",
          "positive",
          "positive",
          "positive",
          "positive",
          "positive",
          "positive",
          "positive",
          "negative",
          "positive",
          "negative",
          "positive",
          "positive",
          "positive",
          "positive",
          "positive",
          "positive",
          "positive",
          "negative",
          "positive",
          "positive",
          "positive",
          "positive",
          "positive",
          "positive",
          "positive",
          "positive",
          "positive",
          "positive",
          "negative",
          "positive",
          "positive",
          "positive",
          "positive",
          "positive",
          "positive",
          "positive",
          "positive",
          "positive",
          "positive",
          "positive",
          "positive",
          "positive",
          "positive",
          "positive",
          "positive",
          "positive",
          "positive",
          "positive",
          "positive",
          "positive",
          "positive",
          "positive",
          "positive",
          "negative",
          "positive",
          "positive",
          "positive",
          "positive",
          "positive",
          "positive",
          "positive",
          "positive",
          "positive",
          "positive",
          "positive",
          "positive",
          "positive",
          "positive",
          "positive",
          "positive",
          "positive",
          "positive",
          "negative",
          "positive",
          "positive",
          "positive",
          "positive",
          "positive",
          "positive",
          "positive",
          "positive",
          "positive",
          "positive",
          "positive",
          "positive",
          "positive",
          "positive",
          "positive",
          "positive",
          "positive",
          "positive",
          "positive",
          "negative",
          "positive",
          "positive",
          "positive",
          "positive",
          "negative",
          "positive",
          "positive",
          "positive",
          "positive",
          "negative",
          "positive",
          "positive",
          "positive",
          "positive",
          "positive",
          "negative",
          "positive",
          "positive",
          "positive",
          "positive",
          "negative",
          "positive",
          "positive",
          "positive",
          "positive",
          "positive",
          "positive",
          "positive",
          "positive",
          "positive",
          "positive",
          "positive",
          "positive",
          "positive",
          "positive",
          "positive",
          "positive",
          "positive",
          "positive",
          "positive",
          "positive",
          "positive",
          "positive",
          "positive",
          "positive",
          "positive",
          "positive",
          "positive",
          "positive",
          "positive",
          "positive",
          "positive",
          "positive",
          "positive",
          "positive",
          "positive",
          "positive",
          "positive",
          "positive",
          "negative",
          "positive",
          "positive",
          "positive",
          "positive",
          "positive",
          "positive",
          "positive",
          "positive",
          "positive",
          "positive",
          "positive",
          "positive",
          "positive",
          "positive",
          "positive",
          "negative",
          "positive",
          "positive",
          "positive",
          "positive",
          "negative",
          "positive",
          "positive",
          "positive",
          "positive",
          "negative",
          "positive",
          "positive",
          "positive",
          "positive",
          "positive",
          "positive",
          "positive",
          "positive",
          "positive",
          "positive",
          "positive",
          "positive",
          "positive",
          "positive",
          "positive",
          "positive",
          "positive",
          "positive",
          "negative",
          "positive",
          "positive",
          "negative",
          "positive",
          "positive",
          "positive",
          "positive",
          "positive",
          "positive",
          "negative",
          "positive",
          "positive",
          "positive",
          "positive",
          "negative",
          "negative",
          "positive",
          "positive",
          "positive",
          "positive",
          "positive",
          "positive",
          "positive",
          "positive",
          "positive",
          "positive",
          "positive",
          "positive",
          "positive",
          "positive",
          "positive",
          "positive",
          "negative",
          "positive",
          "positive",
          "positive",
          "positive",
          "positive",
          "positive",
          "positive",
          "positive",
          "positive",
          "positive",
          "negative",
          "positive",
          "positive",
          "positive",
          "positive",
          "positive",
          "negative",
          "positive",
          "positive",
          "positive",
          "positive",
          "positive",
          "positive",
          "positive",
          "negative",
          "positive",
          "positive",
          "positive",
          "positive",
          "positive",
          "positive",
          "positive",
          "positive",
          "positive",
          "negative",
          "positive",
          "positive",
          "negative",
          "positive",
          "positive",
          "positive",
          "positive",
          "negative",
          "positive",
          "positive",
          "positive",
          "negative",
          "positive",
          "positive",
          "positive",
          "negative",
          "positive",
          "positive",
          "positive",
          "positive",
          "positive",
          "positive",
          "positive",
          "positive",
          "positive",
          "positive",
          "positive",
          "positive",
          "positive",
          "positive",
          "positive",
          "negative",
          "positive",
          "positive",
          "positive",
          "positive",
          "positive",
          "positive",
          "positive",
          "positive",
          "positive",
          "positive",
          "positive",
          "positive",
          "positive",
          "positive",
          "positive",
          "positive",
          "positive",
          "positive",
          "positive",
          "positive",
          "positive",
          "positive",
          "positive",
          "negative",
          "positive",
          "positive",
          "positive",
          "positive",
          "positive",
          "positive",
          "positive",
          "negative",
          "positive",
          "positive",
          "positive",
          "positive",
          "positive",
          "positive",
          "negative",
          "positive",
          "positive",
          "positive",
          "positive",
          "positive",
          "positive",
          "negative",
          "positive",
          "positive",
          "positive",
          "positive",
          "positive",
          "positive",
          "positive",
          "positive",
          "positive",
          "negative",
          "positive",
          "positive",
          "positive",
          "positive",
          "positive",
          "positive",
          "positive",
          "positive",
          "positive",
          "positive",
          "positive",
          "positive",
          "positive",
          "positive",
          "positive",
          "positive",
          "positive",
          "positive",
          "positive",
          "positive",
          "positive",
          "positive",
          "positive",
          "positive",
          "positive",
          "positive",
          "positive",
          "negative",
          "negative",
          "positive",
          "positive",
          "positive",
          "positive",
          "positive",
          "positive",
          "positive",
          "positive",
          "positive",
          "positive",
          "positive",
          "positive",
          "positive",
          "positive",
          "positive",
          "positive",
          "positive",
          "positive",
          "positive",
          "positive",
          "positive",
          "positive",
          "positive",
          "positive",
          "positive",
          "positive",
          "positive",
          "positive",
          "positive",
          "positive",
          "positive",
          "positive",
          "positive",
          "positive",
          "positive",
          "positive",
          "positive",
          "positive",
          "positive",
          "positive",
          "positive",
          "negative",
          "positive",
          "positive",
          "positive",
          "positive",
          "positive",
          "positive",
          "positive",
          "positive",
          "positive",
          "positive",
          "positive",
          "positive",
          "positive",
          "positive",
          "positive",
          "positive",
          "positive",
          "positive",
          "positive",
          "positive",
          "positive",
          "positive",
          "positive",
          "positive",
          "positive",
          "positive",
          "positive",
          "positive",
          "positive",
          "positive",
          "positive",
          "positive"
         ],
         "xaxis": "x",
         "yaxis": "y"
        }
       ],
       "layout": {
        "barmode": "relative",
        "legend": {
         "tracegroupgap": 0
        },
        "margin": {
         "t": 60
        },
        "template": {
         "data": {
          "bar": [
           {
            "error_x": {
             "color": "#2a3f5f"
            },
            "error_y": {
             "color": "#2a3f5f"
            },
            "marker": {
             "line": {
              "color": "#E5ECF6",
              "width": 0.5
             },
             "pattern": {
              "fillmode": "overlay",
              "size": 10,
              "solidity": 0.2
             }
            },
            "type": "bar"
           }
          ],
          "barpolar": [
           {
            "marker": {
             "line": {
              "color": "#E5ECF6",
              "width": 0.5
             },
             "pattern": {
              "fillmode": "overlay",
              "size": 10,
              "solidity": 0.2
             }
            },
            "type": "barpolar"
           }
          ],
          "carpet": [
           {
            "aaxis": {
             "endlinecolor": "#2a3f5f",
             "gridcolor": "white",
             "linecolor": "white",
             "minorgridcolor": "white",
             "startlinecolor": "#2a3f5f"
            },
            "baxis": {
             "endlinecolor": "#2a3f5f",
             "gridcolor": "white",
             "linecolor": "white",
             "minorgridcolor": "white",
             "startlinecolor": "#2a3f5f"
            },
            "type": "carpet"
           }
          ],
          "choropleth": [
           {
            "colorbar": {
             "outlinewidth": 0,
             "ticks": ""
            },
            "type": "choropleth"
           }
          ],
          "contour": [
           {
            "colorbar": {
             "outlinewidth": 0,
             "ticks": ""
            },
            "colorscale": [
             [
              0,
              "#0d0887"
             ],
             [
              0.1111111111111111,
              "#46039f"
             ],
             [
              0.2222222222222222,
              "#7201a8"
             ],
             [
              0.3333333333333333,
              "#9c179e"
             ],
             [
              0.4444444444444444,
              "#bd3786"
             ],
             [
              0.5555555555555556,
              "#d8576b"
             ],
             [
              0.6666666666666666,
              "#ed7953"
             ],
             [
              0.7777777777777778,
              "#fb9f3a"
             ],
             [
              0.8888888888888888,
              "#fdca26"
             ],
             [
              1,
              "#f0f921"
             ]
            ],
            "type": "contour"
           }
          ],
          "contourcarpet": [
           {
            "colorbar": {
             "outlinewidth": 0,
             "ticks": ""
            },
            "type": "contourcarpet"
           }
          ],
          "heatmap": [
           {
            "colorbar": {
             "outlinewidth": 0,
             "ticks": ""
            },
            "colorscale": [
             [
              0,
              "#0d0887"
             ],
             [
              0.1111111111111111,
              "#46039f"
             ],
             [
              0.2222222222222222,
              "#7201a8"
             ],
             [
              0.3333333333333333,
              "#9c179e"
             ],
             [
              0.4444444444444444,
              "#bd3786"
             ],
             [
              0.5555555555555556,
              "#d8576b"
             ],
             [
              0.6666666666666666,
              "#ed7953"
             ],
             [
              0.7777777777777778,
              "#fb9f3a"
             ],
             [
              0.8888888888888888,
              "#fdca26"
             ],
             [
              1,
              "#f0f921"
             ]
            ],
            "type": "heatmap"
           }
          ],
          "heatmapgl": [
           {
            "colorbar": {
             "outlinewidth": 0,
             "ticks": ""
            },
            "colorscale": [
             [
              0,
              "#0d0887"
             ],
             [
              0.1111111111111111,
              "#46039f"
             ],
             [
              0.2222222222222222,
              "#7201a8"
             ],
             [
              0.3333333333333333,
              "#9c179e"
             ],
             [
              0.4444444444444444,
              "#bd3786"
             ],
             [
              0.5555555555555556,
              "#d8576b"
             ],
             [
              0.6666666666666666,
              "#ed7953"
             ],
             [
              0.7777777777777778,
              "#fb9f3a"
             ],
             [
              0.8888888888888888,
              "#fdca26"
             ],
             [
              1,
              "#f0f921"
             ]
            ],
            "type": "heatmapgl"
           }
          ],
          "histogram": [
           {
            "marker": {
             "pattern": {
              "fillmode": "overlay",
              "size": 10,
              "solidity": 0.2
             }
            },
            "type": "histogram"
           }
          ],
          "histogram2d": [
           {
            "colorbar": {
             "outlinewidth": 0,
             "ticks": ""
            },
            "colorscale": [
             [
              0,
              "#0d0887"
             ],
             [
              0.1111111111111111,
              "#46039f"
             ],
             [
              0.2222222222222222,
              "#7201a8"
             ],
             [
              0.3333333333333333,
              "#9c179e"
             ],
             [
              0.4444444444444444,
              "#bd3786"
             ],
             [
              0.5555555555555556,
              "#d8576b"
             ],
             [
              0.6666666666666666,
              "#ed7953"
             ],
             [
              0.7777777777777778,
              "#fb9f3a"
             ],
             [
              0.8888888888888888,
              "#fdca26"
             ],
             [
              1,
              "#f0f921"
             ]
            ],
            "type": "histogram2d"
           }
          ],
          "histogram2dcontour": [
           {
            "colorbar": {
             "outlinewidth": 0,
             "ticks": ""
            },
            "colorscale": [
             [
              0,
              "#0d0887"
             ],
             [
              0.1111111111111111,
              "#46039f"
             ],
             [
              0.2222222222222222,
              "#7201a8"
             ],
             [
              0.3333333333333333,
              "#9c179e"
             ],
             [
              0.4444444444444444,
              "#bd3786"
             ],
             [
              0.5555555555555556,
              "#d8576b"
             ],
             [
              0.6666666666666666,
              "#ed7953"
             ],
             [
              0.7777777777777778,
              "#fb9f3a"
             ],
             [
              0.8888888888888888,
              "#fdca26"
             ],
             [
              1,
              "#f0f921"
             ]
            ],
            "type": "histogram2dcontour"
           }
          ],
          "mesh3d": [
           {
            "colorbar": {
             "outlinewidth": 0,
             "ticks": ""
            },
            "type": "mesh3d"
           }
          ],
          "parcoords": [
           {
            "line": {
             "colorbar": {
              "outlinewidth": 0,
              "ticks": ""
             }
            },
            "type": "parcoords"
           }
          ],
          "pie": [
           {
            "automargin": true,
            "type": "pie"
           }
          ],
          "scatter": [
           {
            "marker": {
             "colorbar": {
              "outlinewidth": 0,
              "ticks": ""
             }
            },
            "type": "scatter"
           }
          ],
          "scatter3d": [
           {
            "line": {
             "colorbar": {
              "outlinewidth": 0,
              "ticks": ""
             }
            },
            "marker": {
             "colorbar": {
              "outlinewidth": 0,
              "ticks": ""
             }
            },
            "type": "scatter3d"
           }
          ],
          "scattercarpet": [
           {
            "marker": {
             "colorbar": {
              "outlinewidth": 0,
              "ticks": ""
             }
            },
            "type": "scattercarpet"
           }
          ],
          "scattergeo": [
           {
            "marker": {
             "colorbar": {
              "outlinewidth": 0,
              "ticks": ""
             }
            },
            "type": "scattergeo"
           }
          ],
          "scattergl": [
           {
            "marker": {
             "colorbar": {
              "outlinewidth": 0,
              "ticks": ""
             }
            },
            "type": "scattergl"
           }
          ],
          "scattermapbox": [
           {
            "marker": {
             "colorbar": {
              "outlinewidth": 0,
              "ticks": ""
             }
            },
            "type": "scattermapbox"
           }
          ],
          "scatterpolar": [
           {
            "marker": {
             "colorbar": {
              "outlinewidth": 0,
              "ticks": ""
             }
            },
            "type": "scatterpolar"
           }
          ],
          "scatterpolargl": [
           {
            "marker": {
             "colorbar": {
              "outlinewidth": 0,
              "ticks": ""
             }
            },
            "type": "scatterpolargl"
           }
          ],
          "scatterternary": [
           {
            "marker": {
             "colorbar": {
              "outlinewidth": 0,
              "ticks": ""
             }
            },
            "type": "scatterternary"
           }
          ],
          "surface": [
           {
            "colorbar": {
             "outlinewidth": 0,
             "ticks": ""
            },
            "colorscale": [
             [
              0,
              "#0d0887"
             ],
             [
              0.1111111111111111,
              "#46039f"
             ],
             [
              0.2222222222222222,
              "#7201a8"
             ],
             [
              0.3333333333333333,
              "#9c179e"
             ],
             [
              0.4444444444444444,
              "#bd3786"
             ],
             [
              0.5555555555555556,
              "#d8576b"
             ],
             [
              0.6666666666666666,
              "#ed7953"
             ],
             [
              0.7777777777777778,
              "#fb9f3a"
             ],
             [
              0.8888888888888888,
              "#fdca26"
             ],
             [
              1,
              "#f0f921"
             ]
            ],
            "type": "surface"
           }
          ],
          "table": [
           {
            "cells": {
             "fill": {
              "color": "#EBF0F8"
             },
             "line": {
              "color": "white"
             }
            },
            "header": {
             "fill": {
              "color": "#C8D4E3"
             },
             "line": {
              "color": "white"
             }
            },
            "type": "table"
           }
          ]
         },
         "layout": {
          "annotationdefaults": {
           "arrowcolor": "#2a3f5f",
           "arrowhead": 0,
           "arrowwidth": 1
          },
          "autotypenumbers": "strict",
          "coloraxis": {
           "colorbar": {
            "outlinewidth": 0,
            "ticks": ""
           }
          },
          "colorscale": {
           "diverging": [
            [
             0,
             "#8e0152"
            ],
            [
             0.1,
             "#c51b7d"
            ],
            [
             0.2,
             "#de77ae"
            ],
            [
             0.3,
             "#f1b6da"
            ],
            [
             0.4,
             "#fde0ef"
            ],
            [
             0.5,
             "#f7f7f7"
            ],
            [
             0.6,
             "#e6f5d0"
            ],
            [
             0.7,
             "#b8e186"
            ],
            [
             0.8,
             "#7fbc41"
            ],
            [
             0.9,
             "#4d9221"
            ],
            [
             1,
             "#276419"
            ]
           ],
           "sequential": [
            [
             0,
             "#0d0887"
            ],
            [
             0.1111111111111111,
             "#46039f"
            ],
            [
             0.2222222222222222,
             "#7201a8"
            ],
            [
             0.3333333333333333,
             "#9c179e"
            ],
            [
             0.4444444444444444,
             "#bd3786"
            ],
            [
             0.5555555555555556,
             "#d8576b"
            ],
            [
             0.6666666666666666,
             "#ed7953"
            ],
            [
             0.7777777777777778,
             "#fb9f3a"
            ],
            [
             0.8888888888888888,
             "#fdca26"
            ],
            [
             1,
             "#f0f921"
            ]
           ],
           "sequentialminus": [
            [
             0,
             "#0d0887"
            ],
            [
             0.1111111111111111,
             "#46039f"
            ],
            [
             0.2222222222222222,
             "#7201a8"
            ],
            [
             0.3333333333333333,
             "#9c179e"
            ],
            [
             0.4444444444444444,
             "#bd3786"
            ],
            [
             0.5555555555555556,
             "#d8576b"
            ],
            [
             0.6666666666666666,
             "#ed7953"
            ],
            [
             0.7777777777777778,
             "#fb9f3a"
            ],
            [
             0.8888888888888888,
             "#fdca26"
            ],
            [
             1,
             "#f0f921"
            ]
           ]
          },
          "colorway": [
           "#636efa",
           "#EF553B",
           "#00cc96",
           "#ab63fa",
           "#FFA15A",
           "#19d3f3",
           "#FF6692",
           "#B6E880",
           "#FF97FF",
           "#FECB52"
          ],
          "font": {
           "color": "#2a3f5f"
          },
          "geo": {
           "bgcolor": "white",
           "lakecolor": "white",
           "landcolor": "#E5ECF6",
           "showlakes": true,
           "showland": true,
           "subunitcolor": "white"
          },
          "hoverlabel": {
           "align": "left"
          },
          "hovermode": "closest",
          "mapbox": {
           "style": "light"
          },
          "paper_bgcolor": "white",
          "plot_bgcolor": "#E5ECF6",
          "polar": {
           "angularaxis": {
            "gridcolor": "white",
            "linecolor": "white",
            "ticks": ""
           },
           "bgcolor": "#E5ECF6",
           "radialaxis": {
            "gridcolor": "white",
            "linecolor": "white",
            "ticks": ""
           }
          },
          "scene": {
           "xaxis": {
            "backgroundcolor": "#E5ECF6",
            "gridcolor": "white",
            "gridwidth": 2,
            "linecolor": "white",
            "showbackground": true,
            "ticks": "",
            "zerolinecolor": "white"
           },
           "yaxis": {
            "backgroundcolor": "#E5ECF6",
            "gridcolor": "white",
            "gridwidth": 2,
            "linecolor": "white",
            "showbackground": true,
            "ticks": "",
            "zerolinecolor": "white"
           },
           "zaxis": {
            "backgroundcolor": "#E5ECF6",
            "gridcolor": "white",
            "gridwidth": 2,
            "linecolor": "white",
            "showbackground": true,
            "ticks": "",
            "zerolinecolor": "white"
           }
          },
          "shapedefaults": {
           "line": {
            "color": "#2a3f5f"
           }
          },
          "ternary": {
           "aaxis": {
            "gridcolor": "white",
            "linecolor": "white",
            "ticks": ""
           },
           "baxis": {
            "gridcolor": "white",
            "linecolor": "white",
            "ticks": ""
           },
           "bgcolor": "#E5ECF6",
           "caxis": {
            "gridcolor": "white",
            "linecolor": "white",
            "ticks": ""
           }
          },
          "title": {
           "x": 0.05
          },
          "xaxis": {
           "automargin": true,
           "gridcolor": "white",
           "linecolor": "white",
           "ticks": "",
           "title": {
            "standoff": 15
           },
           "zerolinecolor": "white",
           "zerolinewidth": 2
          },
          "yaxis": {
           "automargin": true,
           "gridcolor": "white",
           "linecolor": "white",
           "ticks": "",
           "title": {
            "standoff": 15
           },
           "zerolinecolor": "white",
           "zerolinewidth": 2
          }
         }
        },
        "title": {
         "text": "Product Sentiment"
        },
        "xaxis": {
         "anchor": "y",
         "domain": [
          0,
          1
         ],
         "title": {
          "text": "sentimentt"
         }
        },
        "yaxis": {
         "anchor": "x",
         "domain": [
          0,
          1
         ],
         "title": {
          "text": "count"
         }
        }
       }
      }
     },
     "metadata": {},
     "output_type": "display_data"
    }
   ],
   "source": [
    "df['sentimentt'] = df['sentiment'].replace({-1 : 'negative'})\n",
    "df['sentimentt'] = df['sentimentt'].replace({1 : 'positive'})\n",
    "fig = px.histogram(df, x=\"sentimentt\")\n",
    "fig.update_traces(marker_color=\"deepskyblue\",marker_line_color='rgb(8,48,107)',\n",
    "                  marker_line_width=1.5)\n",
    "fig.update_layout(title_text='Product Sentiment')\n",
    "fig.show()"
   ]
  },
  {
   "cell_type": "code",
   "execution_count": 26,
   "metadata": {
    "id": "ObMl1bpbqk9f",
    "outputId": "4e9085c2-28ad-4d97-94e6-7bb72a4f9d9d"
   },
   "outputs": [
    {
     "data": {
      "image/png": "[encoded data removed]",
      "text/plain": [
       "<Figure size 432x288 with 1 Axes>"
      ]
     },
     "metadata": {
      "needs_background": "light"
     },
     "output_type": "display_data"
    }
   ],
   "source": [
    "stopwords = set(STOPWORDS)\n",
    "stopwords.update([\"Mic\", \"Microphone\", \"using\", \"sound\", \"use\", \"Micro\"]) \n",
    "\n",
    "## good and great removed because they were included in negative sentiment\n",
    "pos = \" \".join(review for review in positive.title)\n",
    "wordcloud2 = WordCloud(stopwords=stopwords).generate(pos)\n",
    "plt.imshow(wordcloud2, interpolation='bilinear')\n",
    "plt.axis(\"off\")\n",
    "plt.show()"
   ]
  },
  {
   "cell_type": "code",
   "execution_count": 27,
   "metadata": {
    "id": "Ll9Fq-Uxqk9g",
    "outputId": "1943ae3c-af63-44d2-9ae6-a71249b9be24"
   },
   "outputs": [
    {
     "data": {
      "image/png": "[encoded data removed]",
      "text/plain": [
       "<Figure size 432x288 with 1 Axes>"
      ]
     },
     "metadata": {
      "needs_background": "light"
     },
     "output_type": "display_data"
    }
   ],
   "source": [
    "pos = \" \".join(review for review in negative.title)\n",
    "wordcloud2 = WordCloud(stopwords=stopwords).generate(pos)\n",
    "plt.imshow(wordcloud2, interpolation='bilinear')\n",
    "plt.axis(\"off\")\n",
    "plt.show()"
   ]
  },
  {
   "cell_type": "code",
   "execution_count": 34,
   "metadata": {
    "id": "wiY5YOYoqk9h"
   },
   "outputs": [
    {
     "name": "stderr",
     "output_type": "stream",
     "text": [
      "/var/folders/v6/7t9rdt6n6kzb6x_wn2bpnmwm0000gn/T/ipykernel_10630/1359415573.py:5: SettingWithCopyWarning:\n",
      "\n",
      "\n",
      "A value is trying to be set on a copy of a slice from a DataFrame.\n",
      "Try using .loc[row_indexer,col_indexer] = value instead\n",
      "\n",
      "See the caveats in the documentation: https://pandas.pydata.org/pandas-docs/stable/user_guide/indexing.html#returning-a-view-versus-a-copy\n",
      "\n"
     ]
    }
   ],
   "source": [
    "def remove_punctuation(text):\n",
    "    final = \"\".join(u for u in text if u not in (\"?\", \".\", \";\", \":\",  \"!\",'\"'))\n",
    "    return final\n",
    "\n",
    "df['review'] = df['review'].apply(remove_punctuation)\n",
    "df = df.dropna(subset=['title'])\n",
    "df['title'] = df['title'].apply(remove_punctuation)"
   ]
  },
  {
   "cell_type": "code",
   "execution_count": 35,
   "metadata": {
    "id": "L9EtKn_Eqk9h",
    "outputId": "60728ca9-fabe-4f5c-9cad-8dc7e9777596"
   },
   "outputs": [
    {
     "data": {
      "text/html": [
       "<div>\n",
       "<style scoped>\n",
       "    .dataframe tbody tr th:only-of-type {\n",
       "        vertical-align: middle;\n",
       "    }\n",
       "\n",
       "    .dataframe tbody tr th {\n",
       "        vertical-align: top;\n",
       "    }\n",
       "\n",
       "    .dataframe thead th {\n",
       "        text-align: right;\n",
       "    }\n",
       "</style>\n",
       "<table border=\"1\" class=\"dataframe\">\n",
       "  <thead>\n",
       "    <tr style=\"text-align: right;\">\n",
       "      <th></th>\n",
       "      <th>title</th>\n",
       "      <th>sentiment</th>\n",
       "    </tr>\n",
       "  </thead>\n",
       "  <tbody>\n",
       "    <tr>\n",
       "      <th>0</th>\n",
       "      <td>Not worth it</td>\n",
       "      <td>-1</td>\n",
       "    </tr>\n",
       "    <tr>\n",
       "      <th>1</th>\n",
       "      <td>Outstanding Microphone for Video Calls</td>\n",
       "      <td>1</td>\n",
       "    </tr>\n",
       "    <tr>\n",
       "      <th>2</th>\n",
       "      <td>Great, but not an SM7B replacement Look elsewh...</td>\n",
       "      <td>1</td>\n",
       "    </tr>\n",
       "    <tr>\n",
       "      <th>3</th>\n",
       "      <td>USB users read first Very poor micro USB port</td>\n",
       "      <td>-1</td>\n",
       "    </tr>\n",
       "    <tr>\n",
       "      <th>4</th>\n",
       "      <td>Amazing vocal sound, sturdy, but touch control...</td>\n",
       "      <td>1</td>\n",
       "    </tr>\n",
       "  </tbody>\n",
       "</table>\n",
       "</div>"
      ],
      "text/plain": [
       "                                               title  sentiment\n",
       "0                                       Not worth it         -1\n",
       "1             Outstanding Microphone for Video Calls          1\n",
       "2  Great, but not an SM7B replacement Look elsewh...          1\n",
       "3      USB users read first Very poor micro USB port         -1\n",
       "4  Amazing vocal sound, sturdy, but touch control...          1"
      ]
     },
     "execution_count": 35,
     "metadata": {},
     "output_type": "execute_result"
    }
   ],
   "source": [
    "dfNew = df[['title','sentiment']]\n",
    "dfNew.head()"
   ]
  },
  {
   "cell_type": "code",
   "execution_count": 36,
   "metadata": {},
   "outputs": [
    {
     "data": {
      "text/html": [
       "<div>\n",
       "<style scoped>\n",
       "    .dataframe tbody tr th:only-of-type {\n",
       "        vertical-align: middle;\n",
       "    }\n",
       "\n",
       "    .dataframe tbody tr th {\n",
       "        vertical-align: top;\n",
       "    }\n",
       "\n",
       "    .dataframe thead th {\n",
       "        text-align: right;\n",
       "    }\n",
       "</style>\n",
       "<table border=\"1\" class=\"dataframe\">\n",
       "  <thead>\n",
       "    <tr style=\"text-align: right;\">\n",
       "      <th></th>\n",
       "      <th>review</th>\n",
       "      <th>sentiment</th>\n",
       "    </tr>\n",
       "  </thead>\n",
       "  <tbody>\n",
       "    <tr>\n",
       "      <th>0</th>\n",
       "      <td>This is Shure trying to bait people into buyin...</td>\n",
       "      <td>-1</td>\n",
       "    </tr>\n",
       "    <tr>\n",
       "      <th>1</th>\n",
       "      <td>I didn't even know that I wanted to sound like...</td>\n",
       "      <td>1</td>\n",
       "    </tr>\n",
       "    <tr>\n",
       "      <th>2</th>\n",
       "      <td>This microphone fits perfectly for my use case...</td>\n",
       "      <td>1</td>\n",
       "    </tr>\n",
       "    <tr>\n",
       "      <th>3</th>\n",
       "      <td>The media could not be loaded  So it kind of g...</td>\n",
       "      <td>-1</td>\n",
       "    </tr>\n",
       "    <tr>\n",
       "      <th>4</th>\n",
       "      <td>I'll start right off by saying that the Shure ...</td>\n",
       "      <td>1</td>\n",
       "    </tr>\n",
       "  </tbody>\n",
       "</table>\n",
       "</div>"
      ],
      "text/plain": [
       "                                              review  sentiment\n",
       "0  This is Shure trying to bait people into buyin...         -1\n",
       "1  I didn't even know that I wanted to sound like...          1\n",
       "2  This microphone fits perfectly for my use case...          1\n",
       "3  The media could not be loaded  So it kind of g...         -1\n",
       "4  I'll start right off by saying that the Shure ...          1"
      ]
     },
     "execution_count": 36,
     "metadata": {},
     "output_type": "execute_result"
    }
   ],
   "source": [
    "dfLong = df[['review','sentiment']]\n",
    "dfLong.head()"
   ]
  },
  {
   "cell_type": "code",
   "execution_count": 37,
   "metadata": {
    "id": "Av3S1qAxqk9h"
   },
   "outputs": [],
   "source": [
    "index = df.index\n",
    "df['random_number'] = np.random.randn(len(index))\n",
    "train = df[df['random_number'] <= 0.8]\n",
    "test = df[df['random_number'] > 0.8]"
   ]
  },
  {
   "cell_type": "code",
   "execution_count": 38,
   "metadata": {
    "id": "G9GwNmdVqk9i"
   },
   "outputs": [],
   "source": [
    "#change df frame to a bag of words\n",
    "from sklearn.feature_extraction.text import CountVectorizer\n",
    "vectorizer = CountVectorizer(token_pattern=r'\\b\\w+\\b')"
   ]
  },
  {
   "cell_type": "markdown",
   "metadata": {},
   "source": [
    "[Vectorizer](https://towardsdatascience.com/hacking-scikit-learns-vectorizers-9ef26a7170af) &\n",
    "[Bag-of-Words](https://towardsdatascience.com/hacking-scikit-learns-vectorizers-9ef26a7170af)\n"
   ]
  },
  {
   "cell_type": "code",
   "execution_count": 39,
   "metadata": {},
   "outputs": [],
   "source": [
    "train_matrix = vectorizer.fit_transform(train['title'])\n",
    "test_matrix = vectorizer.transform(test['title'])"
   ]
  },
  {
   "cell_type": "code",
   "execution_count": 40,
   "metadata": {},
   "outputs": [],
   "source": [
    "train_matrix_l = vectorizer.fit_transform(train['review'])\n",
    "test_matrix_l = vectorizer.transform(test['review'])"
   ]
  },
  {
   "cell_type": "code",
   "execution_count": 41,
   "metadata": {
    "id": "-dK38KHJqk9j"
   },
   "outputs": [],
   "source": [
    "from sklearn.linear_model import LogisticRegression\n",
    "lr = LogisticRegression()"
   ]
  },
  {
   "cell_type": "code",
   "execution_count": 42,
   "metadata": {
    "id": "1Ijxjv0Sqk9j"
   },
   "outputs": [],
   "source": [
    "X_train = train_matrix\n",
    "X_test = test_matrix\n",
    "y_train = train['sentiment']\n",
    "y_test = test['sentiment']"
   ]
  },
  {
   "cell_type": "code",
   "execution_count": 48,
   "metadata": {},
   "outputs": [],
   "source": [
    "X_train_l = train_matrix_l\n",
    "X_test_l = test_matrix_l\n",
    "y_train_l = train['sentiment']\n",
    "y_test_l = test['sentiment']"
   ]
  },
  {
   "cell_type": "code",
   "execution_count": 49,
   "metadata": {
    "id": "lSLmg0C3qk9j",
    "outputId": "25ff22fa-576d-47aa-e359-3516ba90452b"
   },
   "outputs": [
    {
     "data": {
      "text/plain": [
       "LogisticRegression()"
      ]
     },
     "execution_count": 49,
     "metadata": {},
     "output_type": "execute_result"
    }
   ],
   "source": [
    "lr.fit(X_train,y_train)"
   ]
  },
  {
   "cell_type": "code",
   "execution_count": 50,
   "metadata": {
    "id": "0DAKYEFNqk9k"
   },
   "outputs": [],
   "source": [
    "predictions = lr.predict(X_test)"
   ]
  },
  {
   "cell_type": "code",
   "execution_count": 51,
   "metadata": {},
   "outputs": [
    {
     "data": {
      "text/plain": [
       "LogisticRegression()"
      ]
     },
     "execution_count": 51,
     "metadata": {},
     "output_type": "execute_result"
    }
   ],
   "source": [
    "lr.fit(X_train_l,y_train_l)"
   ]
  },
  {
   "cell_type": "code",
   "execution_count": 52,
   "metadata": {},
   "outputs": [],
   "source": [
    "predictions_l = lr.predict(X_test_l)"
   ]
  },
  {
   "cell_type": "code",
   "execution_count": 53,
   "metadata": {
    "id": "NjN1fhuVqk9k",
    "outputId": "ae5ac3fa-6575-4e67-9781-05d07661d07d"
   },
   "outputs": [
    {
     "data": {
      "text/plain": [
       "array([[ 1,  0],\n",
       "       [11, 93]])"
      ]
     },
     "execution_count": 53,
     "metadata": {},
     "output_type": "execute_result"
    }
   ],
   "source": [
    "# find accuracy, precision, recall:\n",
    "from sklearn.metrics import confusion_matrix, classification_report\n",
    "new = np.asarray(y_test)\n",
    "confusion_matrix(predictions,y_test)"
   ]
  },
  {
   "cell_type": "code",
   "execution_count": 54,
   "metadata": {},
   "outputs": [
    {
     "data": {
      "text/plain": [
       "array([[ 0,  0],\n",
       "       [12, 93]])"
      ]
     },
     "execution_count": 54,
     "metadata": {},
     "output_type": "execute_result"
    }
   ],
   "source": [
    "long = np.asarray(y_test_l)\n",
    "confusion_matrix(predictions_l,y_test_l)"
   ]
  },
  {
   "cell_type": "code",
   "execution_count": 55,
   "metadata": {
    "id": "sEi5NABwqk9k",
    "outputId": "91924a3b-03b1-4a26-9234-c3457cf5d45e"
   },
   "outputs": [
    {
     "name": "stdout",
     "output_type": "stream",
     "text": [
      "              precision    recall  f1-score   support\n",
      "\n",
      "          -1       0.08      1.00      0.15         1\n",
      "           1       1.00      0.89      0.94       104\n",
      "\n",
      "    accuracy                           0.90       105\n",
      "   macro avg       0.54      0.95      0.55       105\n",
      "weighted avg       0.99      0.90      0.94       105\n",
      "\n"
     ]
    }
   ],
   "source": [
    "print(classification_report(predictions,y_test))\n",
    "#0.90 Accuracy"
   ]
  },
  {
   "cell_type": "code",
   "execution_count": 56,
   "metadata": {
    "id": "obS7xtl8qk9k"
   },
   "outputs": [
    {
     "name": "stdout",
     "output_type": "stream",
     "text": [
      "              precision    recall  f1-score   support\n",
      "\n",
      "          -1       0.00      0.00      0.00         0\n",
      "           1       1.00      0.89      0.94       105\n",
      "\n",
      "    accuracy                           0.89       105\n",
      "   macro avg       0.50      0.44      0.47       105\n",
      "weighted avg       1.00      0.89      0.94       105\n",
      "\n"
     ]
    },
    {
     "name": "stderr",
     "output_type": "stream",
     "text": [
      "/Library/Frameworks/Python.framework/Versions/3.10/lib/python3.10/site-packages/sklearn/metrics/_classification.py:1318: UndefinedMetricWarning:\n",
      "\n",
      "Recall and F-score are ill-defined and being set to 0.0 in labels with no true samples. Use `zero_division` parameter to control this behavior.\n",
      "\n",
      "/Library/Frameworks/Python.framework/Versions/3.10/lib/python3.10/site-packages/sklearn/metrics/_classification.py:1318: UndefinedMetricWarning:\n",
      "\n",
      "Recall and F-score are ill-defined and being set to 0.0 in labels with no true samples. Use `zero_division` parameter to control this behavior.\n",
      "\n",
      "/Library/Frameworks/Python.framework/Versions/3.10/lib/python3.10/site-packages/sklearn/metrics/_classification.py:1318: UndefinedMetricWarning:\n",
      "\n",
      "Recall and F-score are ill-defined and being set to 0.0 in labels with no true samples. Use `zero_division` parameter to control this behavior.\n",
      "\n"
     ]
    }
   ],
   "source": [
    "print(classification_report(predictions_l,y_test_l))"
   ]
  }
 ],
 "metadata": {
  "colab": {
   "name": "2022-02-01-blog-eda.ipynb",
   "provenance": []
  },
  "interpreter": {
   "hash": "aee8b7b246df8f9039afb4144a1f6fd8d2ca17a180786b69acc140d282b71a49"
  },
  "kernelspec": {
   "display_name": "Python 3",
   "language": "python",
   "name": "python3"
  },
  "language_info": {
   "codemirror_mode": {
    "name": "ipython",
    "version": 3
   },
   "file_extension": ".py",
   "mimetype": "text/x-python",
   "name": "python",
   "nbconvert_exporter": "python",
   "pygments_lexer": "ipython3",
   "version": "3.10.1"
  }
 },
 "nbformat": 4,
 "nbformat_minor": 4
}
