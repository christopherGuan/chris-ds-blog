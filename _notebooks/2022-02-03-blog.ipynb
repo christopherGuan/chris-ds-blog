{
 "cells": [
  {
   "cell_type": "markdown",
   "metadata": {},
   "source": [
    "# Amazon Scapying EDA"
   ]
  },
  {
   "cell_type": "code",
   "execution_count": 2,
   "metadata": {},
   "outputs": [],
   "source": [
    "#pip install wordcloud\n",
    "#pip install geopandas\n",
    "#pip install geopandas\n",
    "#pip install --upgrade nbformat\n",
    "#pip install seaborn\n",
    "#pip install -U scikit-learn"
   ]
  },
  {
   "cell_type": "code",
   "execution_count": 1,
   "metadata": {},
   "outputs": [],
   "source": [
    "import pandas as pd\n",
    "from matplotlib import pyplot as plt\n",
    "import numpy as np\n",
    "from wordcloud import WordCloud\n",
    "from wordcloud import STOPWORDS\n",
    "import re\n",
    "import plotly.graph_objects as go\n",
    "import seaborn as sns"
   ]
  },
  {
   "cell_type": "code",
   "execution_count": null,
   "metadata": {},
   "outputs": [],
   "source": [
    "#Import Data\n",
    "df = pd.read_csv(\"/Users/zeyu/Desktop/DS/Amazon_reviews_scraping/Amazon_reviews_scraping/full_reviews.csv\")"
   ]
  },
  {
   "cell_type": "code",
   "execution_count": null,
   "metadata": {},
   "outputs": [],
   "source": [
    "#Clean Data\n",
    "info = []\n",
    "for i in df[\"date\"]:\n",
    "    x = re.sub(\"Reviewed in \", \"\", i)\n",
    "    x1 = re.sub(\" on \", \"*\", x)\n",
    "    info.append(x1)\n",
    "\n",
    "df[\"date\"] = pd.DataFrame({\"date\": info})\n",
    "df[['country','date']] = df.date.apply(\n",
    "   lambda x: pd.Series(str(x).split(\"*\")))\n",
    "\n",
    "star = []\n",
    "star = df.stars1.combine_first(df.stars2)\n",
    "df[\"star\"] = pd.DataFrame({\"star\": star})\n",
    "\n",
    "del df['stars1']\n",
    "del df['stars2']\n",
    "\n",
    "#Convert String to Date\n",
    "df.date = pd.to_datetime(df.date)"
   ]
  },
  {
   "cell_type": "code",
   "execution_count": null,
   "metadata": {},
   "outputs": [],
   "source": [
    "df_country = df['country'].value_counts()\n",
    "fig = go.Figure(go.Bar(\n",
    "            x=df_country,\n",
    "            y=df_country.index,\n",
    "            orientation='h'))\n",
    "\n",
    "fig.show()"
   ]
  },
  {
   "cell_type": "code",
   "execution_count": null,
   "metadata": {},
   "outputs": [],
   "source": [
    "df_no_star = df[df['star'].isna()]\n",
    "df_no_star"
   ]
  },
  {
   "cell_type": "code",
   "execution_count": null,
   "metadata": {},
   "outputs": [],
   "source": [
    "#Convert 2.0 out of 5 stars to 2\n",
    "df_int = []\n",
    "#df_with_star[\"stars\"] = [str(x).replace(':',' ') for x in df[\"stars\"]]\n",
    "\n",
    "for i in df[\"star\"]:\n",
    "    x = re.sub(\".0 out of 5 stars\", \"\", i)\n",
    "    df_int.append(x)\n",
    "\n",
    "df[\"rating\"] = pd.DataFrame({\"rating\": df_int})\n",
    "df[\"rating\"] = df[\"rating\"].astype(int)\n",
    "del df['star']"
   ]
  },
  {
   "cell_type": "code",
   "execution_count": null,
   "metadata": {},
   "outputs": [],
   "source": [
    "temp = df['rating'].value_counts()\n",
    "fig = go.Figure(go.Bar(\n",
    "            x=temp,\n",
    "            y=temp.index,\n",
    "            orientation='h'))\n",
    "\n",
    "fig.show()"
   ]
  },
  {
   "cell_type": "code",
   "execution_count": null,
   "metadata": {},
   "outputs": [],
   "source": [
    "mean_rating = df['rating'].mean()\n",
    "mean_rating"
   ]
  },
  {
   "cell_type": "code",
   "execution_count": null,
   "metadata": {},
   "outputs": [],
   "source": [
    "\n",
    "\"\"\"fig = px.line(df, x=temp.index, y=temp.rating, title='Life expectancy in Canada')\n",
    "fig.show()\"\"\"\n",
    "import plotly.express as px\n",
    "temp = df.groupby([df['date'].dt.date]).mean()\n",
    "temp"
   ]
  },
  {
   "cell_type": "code",
   "execution_count": null,
   "metadata": {},
   "outputs": [],
   "source": [
    "#Average rating each month\n",
    "temp = df.groupby(df['date'].dt.strftime('%B'))['rating'].mean().sort_values()\n",
    "order_temp = temp.reindex([\"January\", \"February\", \"March\", \"April\", \"May\", \"June\", \"July\", \"August\", \"September\", \"November\", \"December\"])\n",
    "order_temp.plot()"
   ]
  },
  {
   "cell_type": "code",
   "execution_count": null,
   "metadata": {},
   "outputs": [],
   "source": [
    "#Quantity of reviews in each month.\n",
    "temp = df.groupby(df['date'].dt.strftime('%B'))['rating'].count().sort_values()\n",
    "order_temp = temp.reindex([\"January\", \"February\", \"March\", \"April\", \"May\", \"June\", \"July\", \"August\", \"September\", \"November\", \"December\"])\n",
    "order_temp.plot()"
   ]
  },
  {
   "cell_type": "code",
   "execution_count": null,
   "metadata": {},
   "outputs": [],
   "source": [
    "#Many words are useless so create a stopword list\n",
    "stopwords = set(STOPWORDS)\n",
    "stopwords.update([\"Mic\", \"Microphone\", \"using\",\"sound\",\"use\"])\n",
    "\n",
    "\n",
    "def cleaned_visualise_word_map(x):\n",
    "    words=\" \"\n",
    "    for msg in x:\n",
    "        msg = str(msg).lower()\n",
    "        words = words+msg+\" \"\n",
    "    wordcloud = WordCloud(stopwords = stopwords, width=3000, height=2500, background_color='white').generate(words)\n",
    "    fig_size = plt.rcParams[\"figure.figsize\"]\n",
    "    fig_size[0] = 14\n",
    "    fig_size[1] = 7\n",
    "    #Display image appear more smoothly\n",
    "    plt.imshow(wordcloud, interpolation='bilinear')\n",
    "    plt.axis(\"off\")\n",
    "    plt.show(wordcloud)\n",
    "cleaned_visualise_word_map(df[\"review\"])"
   ]
  },
  {
   "cell_type": "code",
   "execution_count": null,
   "metadata": {},
   "outputs": [],
   "source": [
    "df = df[df['rating'] != 3]\n",
    "df['sentiment'] = df['rating'].apply(lambda rating : +1 if rating > 3 else -1)"
   ]
  },
  {
   "cell_type": "code",
   "execution_count": null,
   "metadata": {},
   "outputs": [],
   "source": [
    "positive = df[df['sentiment'] == 1]\n",
    "negative = df[df['sentiment'] == -1]"
   ]
  },
  {
   "cell_type": "code",
   "execution_count": null,
   "metadata": {},
   "outputs": [],
   "source": [
    "df['sentimentt'] = df['sentiment'].replace({-1 : 'negative'})\n",
    "df['sentimentt'] = df['sentimentt'].replace({1 : 'positive'})\n",
    "fig = px.histogram(df, x=\"sentimentt\")\n",
    "fig.update_traces(marker_color=\"indianred\",marker_line_color='rgb(8,48,107)',\n",
    "                  marker_line_width=1.5)\n",
    "fig.update_layout(title_text='Product Sentiment')\n",
    "fig.show()"
   ]
  },
  {
   "cell_type": "code",
   "execution_count": null,
   "metadata": {},
   "outputs": [],
   "source": [
    "stopwords = set(STOPWORDS)\n",
    "#stopwords.update([\"Mic\", \"Microphone\", \"using\",\"sound\",\"use\"]) \n",
    "\n",
    "## good and great removed because they were included in negative sentiment\n",
    "pos = \" \".join(review for review in positive.title)\n",
    "wordcloud2 = WordCloud(stopwords=stopwords).generate(pos)\n",
    "plt.imshow(wordcloud2, interpolation='bilinear')\n",
    "plt.axis(\"off\")\n",
    "plt.show()"
   ]
  },
  {
   "cell_type": "code",
   "execution_count": null,
   "metadata": {},
   "outputs": [],
   "source": [
    "pos = \" \".join(review for review in negative.title)\n",
    "wordcloud2 = WordCloud(stopwords=stopwords).generate(pos)\n",
    "plt.imshow(wordcloud2, interpolation='bilinear')\n",
    "plt.axis(\"off\")\n",
    "plt.show()"
   ]
  },
  {
   "cell_type": "markdown",
   "metadata": {},
   "source": [
    "###Sentiment Analysis"
   ]
  },
  {
   "cell_type": "code",
   "execution_count": null,
   "metadata": {},
   "outputs": [],
   "source": [
    "def remove_punctuation(text):\n",
    "    final = \"\".join(u for u in text if u not in (\"?\", \".\", \";\", \":\",  \"!\",'\"'))\n",
    "    return final\n",
    "\n",
    "df['review'] = df['review'].apply(remove_punctuation)\n",
    "df = df.dropna(subset=['title'])\n",
    "df['title'] = df['title'].apply(remove_punctuation)"
   ]
  },
  {
   "cell_type": "code",
   "execution_count": null,
   "metadata": {},
   "outputs": [],
   "source": [
    "dfNew = df[['title','sentiment']]\n",
    "dfNew.head()"
   ]
  },
  {
   "cell_type": "code",
   "execution_count": null,
   "metadata": {},
   "outputs": [],
   "source": [
    "index = df.index\n",
    "df['random_number'] = np.random.randn(len(index))\n",
    "train = df[df['random_number'] <= 0.8]\n",
    "test = df[df['random_number'] > 0.8]"
   ]
  },
  {
   "cell_type": "code",
   "execution_count": null,
   "metadata": {},
   "outputs": [],
   "source": [
    "from sklearn.feature_extraction.text import CountVectorizer\n",
    "vectorizer = CountVectorizer(token_pattern=r'\\b\\w+\\b')\n",
    "train_matrix = vectorizer.fit_transform(train['title'])\n",
    "test_matrix = vectorizer.transform(test['title'])"
   ]
  },
  {
   "cell_type": "code",
   "execution_count": null,
   "metadata": {},
   "outputs": [],
   "source": [
    "from sklearn.linear_model import LogisticRegression\n",
    "lr = LogisticRegression()"
   ]
  },
  {
   "cell_type": "code",
   "execution_count": null,
   "metadata": {},
   "outputs": [],
   "source": [
    "X_train = train_matrix\n",
    "X_test = test_matrix\n",
    "y_train = train['sentiment']\n",
    "y_test = test['sentiment']"
   ]
  },
  {
   "cell_type": "code",
   "execution_count": null,
   "metadata": {},
   "outputs": [],
   "source": [
    "lr.fit(X_train,y_train)"
   ]
  },
  {
   "cell_type": "code",
   "execution_count": null,
   "metadata": {},
   "outputs": [],
   "source": [
    "predictions = lr.predict(X_test)"
   ]
  },
  {
   "cell_type": "code",
   "execution_count": null,
   "metadata": {},
   "outputs": [],
   "source": [
    "# find accuracy, precision, recall:\n",
    "from sklearn.metrics import confusion_matrix,classification_report\n",
    "new = np.asarray(y_test)\n",
    "confusion_matrix(predictions,y_test)"
   ]
  },
  {
   "cell_type": "code",
   "execution_count": null,
   "metadata": {},
   "outputs": [],
   "source": [
    "print(classification_report(predictions,y_test))"
   ]
  },
  {
   "cell_type": "code",
   "execution_count": null,
   "metadata": {},
   "outputs": [],
   "source": []
  },
  {
   "cell_type": "code",
   "execution_count": null,
   "metadata": {},
   "outputs": [],
   "source": []
  },
  {
   "cell_type": "code",
   "execution_count": null,
   "metadata": {},
   "outputs": [],
   "source": [
    "\n",
    "if(prod_name!=\" \"):\n",
    "            price = listing.find('span', attrs={'class':\"s-item__price\"})\n",
    "            prod_price = str(price.find(text=True, recursive=False))\n",
    "            x = re.sub(\"\\$\", \"\", prod_price)\n",
    "            x = x.split(\".\")\n",
    "            str_of_price = re.sub((\",\"), \"\", x[0])\n",
    "            #x = re.sub(\"None\", np.NaN, str_of_price)\n",
    "            #print(x)\n",
    "            #int_of_prices = int(x)\n",
    "            #x = re.sub(\"none\", \"\", x)\n",
    "            #x = re.sub(\"\", \"\", x)\n",
    "            #n = int(x)\n",
    "            prices.append(str_of_price)\n",
    "\"\"\"df_country = df['country'].value_counts()\n",
    "\n",
    "# Creating autocpt arguments\n",
    "def func(pct, allvalues):\n",
    "    absolute = int(pct / 100.*np.sum(allvalues))\n",
    "    return \"{:.1f}%\\n{:d}\".format(pct, absolute)\n",
    " \n",
    "\n",
    "# Creating plot\n",
    "fig, ax = plt.subplots(figsize =(15, 15))\n",
    "\n",
    "\n",
    "wedges = plt.pie(df_country, \n",
    "        autopct = lambda pct: func(pct, df_country), \n",
    "        labels = df_country.index,\n",
    "        explode = (0.0, 0.0, 0.00, 0.0, 0.0, 0.00, 0.0, 0.05, 0.10, 0.2, 0.2),\n",
    "        \n",
    "        )\n",
    "\n",
    "\n",
    "ax.set_title(\"Number of Purchase in Countries\")\n",
    "\n",
    "# show plot\n",
    "plt.show()\"\"\""
   ]
  },
  {
   "cell_type": "code",
   "execution_count": null,
   "metadata": {},
   "outputs": [],
   "source": [
    "\"\"\"summarised_results = df_with_star[\"stars\"].value_counts()\n",
    "\n",
    "fig, ax = plt.subplots(figsize =(8,5))\n",
    "\n",
    "# Save the chart so we can loop through the bars below.\n",
    "bars = ax.bar(\n",
    "    x=summarised_results.keys(),\n",
    "    height=summarised_results.values\n",
    ")\n",
    "\n",
    "# Axis formatting.\n",
    "ax.spines['top'].set_visible(False)\n",
    "ax.spines['right'].set_visible(False)\n",
    "ax.spines['left'].set_visible(False)\n",
    "ax.spines['bottom'].set_color('#DDDDDD')\n",
    "ax.tick_params(bottom=False, left=False)\n",
    "ax.set_axisbelow(True)\n",
    "ax.yaxis.grid(True, color='#EEEEEE')\n",
    "ax.xaxis.grid(False)\n",
    "\n",
    "# Add text annotations to the top of the bars.\n",
    "bar_color = bars[0].get_facecolor()\n",
    "for bar in bars:\n",
    "  ax.text(\n",
    "      bar.get_x() + bar.get_width() / 2,\n",
    "      bar.get_height() + 3,\n",
    "      round(bar.get_height(), 1),\n",
    "      horizontalalignment='center',\n",
    "      color=bar_color,\n",
    "      weight='bold'\n",
    "  )\n",
    "\n",
    "# Add labels and a title. Note the use of `labelpad` and `pad` to add some\n",
    "# extra space between the text and the tick labels.\n",
    "ax.set_xlabel('Stars', labelpad=15, color='#333333')\n",
    "ax.set_ylabel('Count', labelpad=15, color='#333333')\n",
    "ax.set_title('Distribution of Star Ratings', pad=15, color='#333333',\n",
    "             weight='bold')\n",
    "\n",
    "fig.tight_layout()\"\"\""
   ]
  },
  {
   "cell_type": "code",
   "execution_count": null,
   "metadata": {},
   "outputs": [],
   "source": [
    "#pd.set_option('display.max_rows', None) Show all Output\n",
    "\n",
    "#df_with_star = df.mask(df.eq('nan')).dropna() Drop all with nan\n",
    "\n",
    "#Not efficient way to convert string to number.\n",
    "\"\"\"for i in df['stars']:\n",
    "    x = i.replace(\"2.0 out of 5 stars\",\"2\")\n",
    "    x1 = x.replace(\"3.0 out of 5 stars\",\"3\")\n",
    "    x2 = x1.replace(\"4.0 out of 5 stars\",\"4\")\n",
    "    x3 = x2.replace(\"5.0 out of 5 stars\",\"5\")\n",
    "    x4 = x3.replace(\"1.0 out of 5 stars\",\"1\")\n",
    "    df_int.append(x4)\n",
    "df_with_star[\"stars\"] = df_int\"\"\"\n",
    "\n"
   ]
  }
 ],
 "metadata": {
  "interpreter": {
   "hash": "aee8b7b246df8f9039afb4144a1f6fd8d2ca17a180786b69acc140d282b71a49"
  },
  "kernelspec": {
   "display_name": "Python 3.10.1 64-bit",
   "language": "python",
   "name": "python3"
  },
  "language_info": {
   "codemirror_mode": {
    "name": "ipython",
    "version": 3
   },
   "file_extension": ".py",
   "mimetype": "text/x-python",
   "name": "python",
   "nbconvert_exporter": "python",
   "pygments_lexer": "ipython3",
   "version": "3.10.1"
  },
  "orig_nbformat": 4
 },
 "nbformat": 4,
 "nbformat_minor": 2
}
